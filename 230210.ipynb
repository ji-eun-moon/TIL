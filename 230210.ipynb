{
 "cells": [
  {
   "attachments": {},
   "cell_type": "markdown",
   "metadata": {},
   "source": [
    "#### 재귀함수 연습"
   ]
  },
  {
   "cell_type": "code",
   "execution_count": 9,
   "metadata": {},
   "outputs": [
    {
     "name": "stdout",
     "output_type": "stream",
     "text": [
      "3 7 12 13 19 28 19 13 12 7 3 \n",
      "3 7 12 13 19 28 19 13 12 7 3 \n",
      "3 7 12 13 19 28 19 13 12 7 3 "
     ]
    }
   ],
   "source": [
    "# 누적합 출력하기 \n",
    "\n",
    "arr = [3, 4, 5, 1, 6, 9]\n",
    "\n",
    "\n",
    "# 1. sum 이 매개변수\n",
    "\n",
    "def getsum(idx, sum):\n",
    "    sum += arr[idx]\n",
    "    if idx == len(arr)-1:\n",
    "        print(sum, end =' ')\n",
    "        return\n",
    "    print(sum, end =' ')\n",
    "    getsum(idx+1, sum)\n",
    "    print(sum, end=' ')\n",
    "\n",
    "getsum(0, 0)\n",
    "print()\n",
    "\n",
    "def abc(level, sum):\n",
    "    print(sum, end=' ')\n",
    "    if level == 5:\n",
    "        return\n",
    "    abc(level+1, sum+arr[level+1])\n",
    "    print(sum, end=' ')\n",
    "\n",
    "abc(0, 3)\n",
    "print()\n",
    "\n",
    "# 2. sum이 전역변수\n",
    "sum = arr[0]\n",
    "\n",
    "def abc(level):\n",
    "    global sum\n",
    "    print(sum, end=' ')\n",
    "    if level == 5:\n",
    "        return\n",
    "    sum += arr[level+1]\n",
    "    abc(level+1)\n",
    "    sum -= arr[level+1]\n",
    "    print(sum, end=' ')\n",
    "abc(0)\n",
    "print()\n"
   ]
  },
  {
   "cell_type": "code",
   "execution_count": 10,
   "metadata": {},
   "outputs": [
    {
     "name": "stdout",
     "output_type": "stream",
     "text": [
      "3 1 1 2 "
     ]
    }
   ],
   "source": [
    "# 개구리가 0번 인덱스부터 저장된 값만큼 점프할때 지나온 값 거꾸로 출력하기\n",
    "\n",
    "arr = [2, 0, 1, 1, 3, 5, 1]\n",
    "\n",
    "def abc(idx):\n",
    "    if idx >= len(arr):\n",
    "        return\n",
    "    abc(idx+arr[idx])\n",
    "    print(arr[idx], end=' ')\n",
    "\n",
    "abc(0)"
   ]
  },
  {
   "cell_type": "code",
   "execution_count": 19,
   "metadata": {},
   "outputs": [
    {
     "name": "stdout",
     "output_type": "stream",
     "text": [
      "9 13 7 8 13 17 11 12 7 11 5 6 8 12 6 7 13 17 11 12 17 21 15 16 11 15 9 10 12 16 10 11 7 11 5 6 11 15 9 10 5 9 3 4 6 10 4 5 8 12 6 7 12 16 10 11 6 10 4 5 7 11 5 6 \n",
      "9 13 7 8 13 17 11 12 7 11 5 6 8 12 6 7 13 17 11 12 17 21 15 16 11 15 9 10 12 16 10 11 7 11 5 6 11 15 9 10 5 9 3 4 6 10 4 5 8 12 6 7 12 16 10 11 6 10 4 5 7 11 5 6 "
     ]
    }
   ],
   "source": [
    "# 세묶음의 카드에서 한장씩 꺼내 합을 구할때 나올 수 있는 경우의 수\n",
    "\n",
    "card = [3, 7, 1, 2]\n",
    "\n",
    "# 매개변수 사용\n",
    "def abc(level, sum):\n",
    "    if level == 3:\n",
    "        print(sum, end=' ')\n",
    "        return\n",
    "    for i in range(4):\n",
    "        abc(level+1, sum+card[i])\n",
    "\n",
    "abc(0, 0)\n",
    "print()\n",
    "\n",
    "# 전역변수 사용\n",
    "sum = 0\n",
    "def abc2(level):\n",
    "    global sum\n",
    "    if level == 3:\n",
    "        print(sum, end=' ')\n",
    "        return\n",
    "    for i in range(4):\n",
    "        sum += card[i]\n",
    "        abc2(level+1)\n",
    "        sum -= card[i]  # 원상복구\n",
    "\n",
    "abc2(0)"
   ]
  },
  {
   "cell_type": "code",
   "execution_count": 28,
   "metadata": {},
   "outputs": [
    {
     "name": "stdout",
     "output_type": "stream",
     "text": [
      "35\n"
     ]
    }
   ],
   "source": [
    "# n개의 카드 묶음에서 각각 한 개씩 카드를 뽑아 더했을 때 합이 20이 넘는 경우는 몇가지?\n",
    "\n",
    "arr = [2, 7, 1, 4, 3]\n",
    "\n",
    "n = int(input())\n",
    "\n",
    "cnt = 0\n",
    "def abc(level, sum):\n",
    "    global cnt\n",
    "    if level == n:\n",
    "        if sum > 20:\n",
    "            cnt += 1\n",
    "        return\n",
    "    for i in range(5):\n",
    "        abc(level+1, sum+arr[i])\n",
    "\n",
    "abc(0, 0)\n",
    "\n",
    "print(cnt)\n",
    "\n"
   ]
  },
  {
   "cell_type": "code",
   "execution_count": 35,
   "metadata": {},
   "outputs": [
    {
     "name": "stdout",
     "output_type": "stream",
     "text": [
      "2\n"
     ]
    }
   ],
   "source": [
    "# 배수의 관계가 아닌 동전을 최소로 사용해서 거스름돈 주기\n",
    "\n",
    "changes = int(input())\n",
    "\n",
    "coin = [110, 70, 10]\n",
    "\n",
    "Min = 21e8\n",
    "def abc(level, changes):\n",
    "    global Min\n",
    "    if changes < 0:  # 거스름돈이 음수가 되면 되돌아가기\n",
    "        return\n",
    "    if changes == 0:  # 거스름돈이 0일 경우 최소값 갱신\n",
    "            if level < Min:\n",
    "                Min = level\n",
    "                return\n",
    "    if level == 1000:  # 동전의 개수가 1000개로 제한되어 있을 때\n",
    "        return\n",
    "    for i in range(3):\n",
    "        abc(level+1, changes-coin[i])\n",
    "\n",
    "abc(0, changes)\n",
    "print(Min)"
   ]
  },
  {
   "cell_type": "code",
   "execution_count": 49,
   "metadata": {},
   "outputs": [
    {
     "name": "stdout",
     "output_type": "stream",
     "text": [
      "['A', 'A']\n",
      "['A', 'B']\n",
      "['A', 'C']\n",
      "['B', 'A']\n",
      "['B', 'B']\n",
      "['B', 'C']\n",
      "['C', 'A']\n",
      "['C', 'B']\n",
      "['C', 'C']\n"
     ]
    }
   ],
   "source": [
    "# 중복 순열 (모든 경우의 수 출력하기)\n",
    "# 3장의 카드중에서 두 장 뽑기\n",
    "\n",
    "card = ['A', 'B', 'C']\n",
    "path = [0]*2\n",
    "\n",
    "def abc(level):\n",
    "    if level == 2:\n",
    "        print(path)\n",
    "        return\n",
    "    for i in range(3):\n",
    "        path[level] = card[i]\n",
    "        abc(level+1)\n",
    "        # path[level] = 0 \n",
    "\n",
    "abc(0)"
   ]
  },
  {
   "cell_type": "code",
   "execution_count": 60,
   "metadata": {},
   "outputs": [
    {
     "name": "stdout",
     "output_type": "stream",
     "text": [
      "1 1 \n",
      "1 2 \n",
      "1 3 \n",
      "1 4 \n",
      "1 5 \n",
      "1 6 \n",
      "2 1 \n",
      "2 2 \n",
      "2 3 \n",
      "2 4 \n",
      "2 5 \n",
      "2 6 \n",
      "3 1 \n",
      "3 2 \n",
      "3 3 \n",
      "3 4 \n",
      "3 5 \n",
      "3 6 \n",
      "4 1 \n",
      "4 2 \n",
      "4 3 \n",
      "4 4 \n",
      "4 5 \n",
      "4 6 \n",
      "5 1 \n",
      "5 2 \n",
      "5 3 \n",
      "5 4 \n",
      "5 5 \n",
      "5 6 \n",
      "6 1 \n",
      "6 2 \n",
      "6 3 \n",
      "6 4 \n",
      "6 5 \n",
      "6 6 \n"
     ]
    }
   ],
   "source": [
    "# n개의 주사위 굴리기\n",
    "n = int(input())\n",
    "num = [1, 2, 3, 4, 5, 6]\n",
    "path = [0]*n\n",
    "def abc(level):\n",
    "    if level == n:  # 주사위 개수\n",
    "        for i in range(level):\n",
    "            print(path[i], end=' ')\n",
    "        print()\n",
    "        return\n",
    "    for i in range(6):\n",
    "        path[level] = num[i]\n",
    "        abc(level+1)\n",
    "\n",
    "abc(0)\n"
   ]
  }
 ],
 "metadata": {
  "kernelspec": {
   "display_name": "Python 3",
   "language": "python",
   "name": "python3"
  },
  "language_info": {
   "codemirror_mode": {
    "name": "ipython",
    "version": 3
   },
   "file_extension": ".py",
   "mimetype": "text/x-python",
   "name": "python",
   "nbconvert_exporter": "python",
   "pygments_lexer": "ipython3",
   "version": "3.9.13"
  },
  "orig_nbformat": 4,
  "vscode": {
   "interpreter": {
    "hash": "c4b9ebf4ca459396e2ad1150752490c26670c1a037c08cad955a4425787bec2e"
   }
  }
 },
 "nbformat": 4,
 "nbformat_minor": 2
}
