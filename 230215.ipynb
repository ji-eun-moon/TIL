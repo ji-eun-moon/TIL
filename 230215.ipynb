{
 "cells": [
  {
   "cell_type": "code",
   "execution_count": 4,
   "metadata": {},
   "outputs": [
    {
     "name": "stdout",
     "output_type": "stream",
     "text": [
      "7\n"
     ]
    }
   ],
   "source": [
    "# 위에서 부터 한칸 씩 내려오면서 숫자 한개씩을 선택합니다.\n",
    "# 선택한 숫자들을 모두 더했을 때 합이 20 이상인 경우가 몇가지 인지 출력해 주세요.\n",
    "\n",
    "arr = [ [4, 5, 2],\n",
    "        [-2, 1, 6],\n",
    "        [3, 9, -4],\n",
    "        [3, 5, 2]]\n",
    "        \n",
    "cnt = 0\n",
    "def abc(level, sum):\n",
    "    global cnt\n",
    "    if level == 4:\n",
    "        if sum > 20:\n",
    "            cnt += 1\n",
    "        return\n",
    "    for i in range(3):\n",
    "        abc(level+1, sum+arr[level][i])\n",
    "\n",
    "abc(0, 0)\n",
    "print(cnt)"
   ]
  },
  {
   "cell_type": "code",
   "execution_count": 6,
   "metadata": {},
   "outputs": [
    {
     "name": "stdout",
     "output_type": "stream",
     "text": [
      "3600\n"
     ]
    }
   ],
   "source": [
    "# 곱의 최대값 구하기\n",
    "\n",
    "arr = [ [3, 5, 9],\n",
    "        [7, -8, 1],\n",
    "        [-10, 2, 3],\n",
    "        [5, 1, 2]]\n",
    "\n",
    "Max = 0\n",
    "def abc(level, gop):\n",
    "    global Max\n",
    "    if level == 4:\n",
    "        if Max < gop:\n",
    "            Max = gop\n",
    "        return\n",
    "    for i in range(3):\n",
    "        abc(level+1, gop*arr[level][i])\n",
    "\n",
    "abc(0, 1)\n",
    "print(Max)"
   ]
  },
  {
   "cell_type": "code",
   "execution_count": 19,
   "metadata": {},
   "outputs": [
    {
     "name": "stdout",
     "output_type": "stream",
     "text": [
      "11\n"
     ]
    }
   ],
   "source": [
    "arr = [ [3, 5, 9, 6],\n",
    "        [7, -8, 1, 6],\n",
    "        [-10, 2, 3, 9],\n",
    "        [5, 1, 2, 8],\n",
    "        [4, 7, 1, 8]]\n",
    "\n",
    "cnt = 0\n",
    "def dfs(now, level, sum):\n",
    "    global cnt\n",
    "    if level == 5:\n",
    "        if sum > 30:\n",
    "            cnt += 1\n",
    "        return\n",
    "    for i in range(3):\n",
    "        direct = [-1, 0, 1]\n",
    "        dy = level\n",
    "        dx = now + direct[i]\n",
    "        if 0 <= dx < 4:\n",
    "            dfs(dx, level+1, sum+arr[dy][dx])\n",
    "\n",
    "for i in range(4):\n",
    "    dfs(i, 1, arr[0][i])\n",
    "\n",
    "print(cnt)\n",
    "\n"
   ]
  },
  {
   "cell_type": "code",
   "execution_count": null,
   "metadata": {},
   "outputs": [],
   "source": [
    "arr = [ [0, 0, 0, 0],\n",
    "        [1, 0, 1, 0],\n",
    "        [1, 0, 1, 0],\n",
    "        [0, 0, 0, 0]]\n",
    "\n",
    "used = [[0]*4 for _ in range(4)]\n",
    "\n",
    "direct_y = [0, 0, 1]\n",
    "direct_x = [-1, 1, 0]\n",
    "\n",
    "cnt = 0\n",
    "def dfs(y, x):\n",
    "    global flag\n",
    "    if y == 3 and x == 3:\n",
    "        cnt += 1\n",
    "        return\n",
    "    for i in range(3):\n",
    "        dy = y + direct_y[i]\n",
    "        dx = x + direct_x[i]\n",
    "        if 0<= dx < 4 and 0 <= dy < 4:\n",
    "            if arr[dy][dx] == 0 and used[dy][dx] == 0:\n",
    "                used[dy][dx] = 1\n",
    "                dfs(dy, dx)\n",
    "                used[dy][dx] = 0\n",
    "\n",
    "used[0][0] = 1\n",
    "dfs(0, 0)  # 시작점 좌표\n",
    "print(cnt)"
   ]
  },
  {
   "cell_type": "code",
   "execution_count": 23,
   "metadata": {},
   "outputs": [
    {
     "name": "stdout",
     "output_type": "stream",
     "text": [
      "도착가능\n"
     ]
    }
   ],
   "source": [
    "arr=[[0,0,0,0],\n",
    "     [1,0,1,0],\n",
    "     [1,0,1,0],\n",
    "     [0,0,0,0]]\n",
    "\n",
    "visit=[[0]*4 for _ in range(4)]\n",
    "directy=[-1,1,0,0]\n",
    "directx=[0,0,-1,1]\n",
    "flag=0\n",
    "def dfs(y,x):\n",
    "    global flag\n",
    "    if y==3 and x==3:\n",
    "        flag=1\n",
    "        return\n",
    "\n",
    "    for i in range(4):\n",
    "        dy=y+directy[i]\n",
    "        dx=x+directx[i]\n",
    "        if dy<0 or dx<0 or dy>3 or dx>3: continue\n",
    "        if arr[dy][dx]==1: continue\n",
    "        if visit[dy][dx]==1: continue\n",
    "        visit[dy][dx]=1\n",
    "        dfs(dy,dx)\n",
    "        if flag==1:\n",
    "            return\n",
    "visit[0][0]=1\n",
    "dfs(0,0)   # 시작점의 좌표값을 넣어주기\n",
    "if flag==1:\n",
    "    print('도착가능')\n",
    "else:\n",
    "    print('불가능')"
   ]
  },
  {
   "cell_type": "code",
   "execution_count": null,
   "metadata": {},
   "outputs": [],
   "source": [
    "arr=[[0,0,0,0],\n",
    "     [1,0,1,0],\n",
    "     [1,0,1,0],\n",
    "     [0,0,0,0]]\n",
    "\n",
    "directy=[-1,1,0,0]\n",
    "directx=[0,0,-1,1]\n",
    "flag=0\n",
    "def dfs(y,x):\n",
    "    global flag\n",
    "    if y==3 and x==3: # 원하는 도착점에 도착 했을 시\n",
    "        flag=1          #flag 1 켜주고 (why? 원하는 목적 달성하고 dfs탐색을 종료 하기 위함)\n",
    "        return\n",
    "\n",
    "    for i in range(4):\n",
    "        dy=y+directy[i]         # 현재 위치에서의 4방향 좌표값을 dy,dx에 넣고\n",
    "        dx=x+directx[i]\n",
    "        \n",
    "        if dy < 0 or dx < 0 or dy > 3 or dx > 3: continue  # 배열 범위 검사\n",
    "        if arr[dy][dx]==1: continue # 벽 검사\n",
    "        if arr[dy][dx]==2: continue # 중복체크 검사가 다 통과가 되었다면!!\n",
    "                \n",
    "        arr[dy][dx]=2  # 중복 방지를 위해 앞으로 들어갈 곳을 2 체크하고\n",
    "        dfs(dy,dx) # 들어가기!!!!\n",
    "        if flag==1: # 원하는바 찾았으면 무조건 리턴하기(더이상 dfs 탐색 안하기)\n",
    "            return\n",
    "\n",
    "arr[0][0]=2  # 시작점의 좌표를 2로 바꿔주기 (중복체크를 위함)\n",
    "dfs(0,0)   # 시작점의 좌표값을 넣어주기\n",
    "if flag==1:\n",
    "    print('도착가능')\n",
    "else:\n",
    "    print('불가능')"
   ]
  },
  {
   "cell_type": "code",
   "execution_count": 30,
   "metadata": {},
   "outputs": [
    {
     "name": "stdout",
     "output_type": "stream",
     "text": [
      "4\n"
     ]
    }
   ],
   "source": [
    "# 최단거리 \n",
    "\n",
    "arr = [ [0, 0, 0, 0, 1],\n",
    "        [1, 0, 1, 0, 1],\n",
    "        [1, 0, 1, 0, 1],\n",
    "        [1, 0, 1, 0, 1],\n",
    "        [0, 0, 0, 0, 0]]\n",
    "\n",
    "direct_y = [-1, 1, 0, 0]\n",
    "direct_x = [0, 0, -1, 1]\n",
    "\n",
    "Min = 21e8 \n",
    "cnt = 1\n",
    "def dfs(y, x):\n",
    "    global Min \n",
    "    global cnt\n",
    "    if y == 1 and x == 3:\n",
    "        if Min > cnt:\n",
    "            Min = cnt\n",
    "        return\n",
    "    for i in range(4):\n",
    "        dy = y + direct_y[i]\n",
    "        dx = x + direct_x[i]\n",
    "        if 0 <= dy < 5 and 0 <= dx < 5:\n",
    "            if arr[dy][dx] == 0:\n",
    "                cnt += 1\n",
    "                arr[dy][dx] = 2\n",
    "                dfs(dy, dx)\n",
    "                arr[dy][dx] = 0\n",
    "                cnt = 1\n",
    "\n",
    "arr[0][0] = 2\n",
    "dfs(0, 0)\n",
    "print(Min)"
   ]
  },
  {
   "cell_type": "code",
   "execution_count": 31,
   "metadata": {},
   "outputs": [
    {
     "name": "stdout",
     "output_type": "stream",
     "text": [
      "4\n"
     ]
    }
   ],
   "source": [
    "# 0,0 좌표에서 1,3 까지의 최단거리 구하기 (DFS 이용)\n",
    "arr=[[0,0,0,0,1],\n",
    "     [1,0,1,0,1],\n",
    "     [1,0,1,0,1],\n",
    "     [1,0,1,0,1],\n",
    "     [0,0,0,0,0]]\n",
    "visit=[[0]*5 for _ in range(5)]\n",
    "\n",
    "directy=[0,0,-1,1]\n",
    "directx=[1,-1,0,0]\n",
    "Min=int(21e8)\n",
    "def dfs(y,x,level):\n",
    "    global Min\n",
    "    if y==1 and x==3:\n",
    "        # 최소레벨 갱신\n",
    "        if level<Min:\n",
    "            Min=level\n",
    "        return\n",
    "    for i in range(4):\n",
    "        dy=y+directy[i]\n",
    "        dx=x+directx[i]\n",
    "        if dy<0 or dx<0 or dy>4 or dx>4: continue\n",
    "        if visit[dy][dx]==1: continue\n",
    "        if arr[dy][dx]==1: continue\n",
    "        visit[dy][dx]=1\n",
    "        dfs(dy,dx,level+1)\n",
    "        visit[dy][dx]=0\n",
    "\n",
    "visit[0][0]=1\n",
    "dfs(0,0,0)  # y,x,level\n",
    "print(Min)"
   ]
  }
 ],
 "metadata": {
  "kernelspec": {
   "display_name": "Python 3",
   "language": "python",
   "name": "python3"
  },
  "language_info": {
   "codemirror_mode": {
    "name": "ipython",
    "version": 3
   },
   "file_extension": ".py",
   "mimetype": "text/x-python",
   "name": "python",
   "nbconvert_exporter": "python",
   "pygments_lexer": "ipython3",
   "version": "3.9.13"
  },
  "orig_nbformat": 4,
  "vscode": {
   "interpreter": {
    "hash": "c4b9ebf4ca459396e2ad1150752490c26670c1a037c08cad955a4425787bec2e"
   }
  }
 },
 "nbformat": 4,
 "nbformat_minor": 2
}
