{
 "cells": [
  {
   "attachments": {},
   "cell_type": "markdown",
   "metadata": {},
   "source": [
    "# 재귀호출 연습"
   ]
  },
  {
   "attachments": {},
   "cell_type": "markdown",
   "metadata": {},
   "source": [
    "-  숫자 n부터 0까지 Count down 했다가 다시 돌아오는 수 출력\n",
    "- ex) 4\n",
    "    - 4 3 2 1 0 1 2 3 4\n",
    "- ex) 6\n",
    "    - 6 5 4 3 2 1 0 1 2 3 4 5 6"
   ]
  },
  {
   "cell_type": "code",
   "execution_count": null,
   "metadata": {},
   "outputs": [],
   "source": [
    "def countdown(num):\n",
    "    if num == 0:\n",
    "        print(num, end=' ')\n",
    "        return\n",
    "    print(num, end=' ')\n",
    "    countdown(num-1)\n",
    "    print(num, end=' ')\n",
    "\n",
    "countdown(int(input()))"
   ]
  },
  {
   "attachments": {},
   "cell_type": "markdown",
   "metadata": {},
   "source": [
    "- 두 칸씩 점프하기\n",
    "    - 만약 1을 입력받았다면, 출력 결과 : 7 5 3 1"
   ]
  },
  {
   "cell_type": "code",
   "execution_count": 1,
   "metadata": {},
   "outputs": [
    {
     "name": "stdout",
     "output_type": "stream",
     "text": [
      "7 5 3 1 "
     ]
    }
   ],
   "source": [
    "def abc(level, num):\n",
    "    if level == 3:\n",
    "        print(num, end=' ')\n",
    "        return\n",
    "    abc(level+1, num+2)\n",
    "    print(num, end=' ')\n",
    "\n",
    "abc(0, int(input()))"
   ]
  },
  {
   "attachments": {},
   "cell_type": "markdown",
   "metadata": {},
   "source": [
    "- 다섯글자를 배열에 넣은 뒤 0번~4번 index까지 출력 하고 4번~0번 index까지 출력하는 프로그램을 재귀호출로 만들기"
   ]
  },
  {
   "cell_type": "code",
   "execution_count": 4,
   "metadata": {},
   "outputs": [
    {
     "name": "stdout",
     "output_type": "stream",
     "text": [
      "abcde\n",
      "edcba"
     ]
    }
   ],
   "source": [
    "def abc(level, idx):\n",
    "    if level == 5:\n",
    "        print()\n",
    "        return\n",
    "    print(lst[idx], end='')\n",
    "    abc(level+1, idx+1)\n",
    "    print(lst[idx], end='')\n",
    "\n",
    "lst = list(input())\n",
    "abc(0, 0)"
   ]
  },
  {
   "attachments": {},
   "cell_type": "markdown",
   "metadata": {},
   "source": [
    "- a, b 숫자 2개를 입력 받고, 재귀호출을 이용하여 a --> b--> a까지 출력"
   ]
  },
  {
   "cell_type": "code",
   "execution_count": 5,
   "metadata": {},
   "outputs": [
    {
     "name": "stdout",
     "output_type": "stream",
     "text": [
      "3 4 5 6 7 8 9 8 7 6 5 4 3 "
     ]
    }
   ],
   "source": [
    "a, b = map(int, input().split())\n",
    "\n",
    "def abc(a, b):\n",
    "    if a == b:\n",
    "        print(a, end=' ')\n",
    "        return\n",
    "    print(a, end=' ')\n",
    "    abc(a+1, b)\n",
    "    print(a, end=' ')\n",
    "\n",
    "abc(a, b)"
   ]
  },
  {
   "attachments": {},
   "cell_type": "markdown",
   "metadata": {},
   "source": [
    "- 입력받은 index부터 0번 index까지 출력 한 후 0번 index부터 입력받은 index까지 출력"
   ]
  },
  {
   "cell_type": "code",
   "execution_count": 8,
   "metadata": {},
   "outputs": [
    {
     "name": "stdout",
     "output_type": "stream",
     "text": [
      "1 4 7 3 7 4 1 "
     ]
    }
   ],
   "source": [
    "lst = [3, 7, 4, 1, 9, 4, 6, 2]\n",
    "\n",
    "def abc(idx):\n",
    "    if idx == 0:\n",
    "        print(lst[idx], end=' ')\n",
    "        return\n",
    "    print(lst[idx], end=' ')\n",
    "    abc(idx-1)\n",
    "    print(lst[idx], end=' ')\n",
    "\n",
    "abc(int(input()))"
   ]
  },
  {
   "attachments": {},
   "cell_type": "markdown",
   "metadata": {},
   "source": [
    "- 입력받은 숫자가 0이 될 때까지 2로 나누어 주고 숫자가 0이 된 이후에는 되돌아 가는 값 출력"
   ]
  },
  {
   "cell_type": "code",
   "execution_count": 1,
   "metadata": {},
   "outputs": [
    {
     "name": "stdout",
     "output_type": "stream",
     "text": [
      "1 2 4 8 17 "
     ]
    }
   ],
   "source": [
    "def abc(num):\n",
    "    if num == 0:\n",
    "        return\n",
    "    abc(num//2)\n",
    "    print(num, end=' ')\n",
    "\n",
    "abc(int(input()))"
   ]
  },
  {
   "attachments": {},
   "cell_type": "markdown",
   "metadata": {},
   "source": [
    "# for문을 이용한 재귀호출"
   ]
  },
  {
   "cell_type": "code",
   "execution_count": null,
   "metadata": {},
   "outputs": [],
   "source": []
  }
 ],
 "metadata": {
  "kernelspec": {
   "display_name": "Python 3",
   "language": "python",
   "name": "python3"
  },
  "language_info": {
   "codemirror_mode": {
    "name": "ipython",
    "version": 3
   },
   "file_extension": ".py",
   "mimetype": "text/x-python",
   "name": "python",
   "nbconvert_exporter": "python",
   "pygments_lexer": "ipython3",
   "version": "3.9.13"
  },
  "orig_nbformat": 4,
  "vscode": {
   "interpreter": {
    "hash": "c4b9ebf4ca459396e2ad1150752490c26670c1a037c08cad955a4425787bec2e"
   }
  }
 },
 "nbformat": 4,
 "nbformat_minor": 2
}
