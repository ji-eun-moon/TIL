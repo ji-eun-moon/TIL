{
 "cells": [
  {
   "cell_type": "code",
   "execution_count": null,
   "metadata": {},
   "outputs": [],
   "source": [
    "# 중복 순열 - 전부 다 출력\n",
    "# n 개의 항에서 숫자 1개 씩 뽑아서 더했을 때 합이 10이 나오는 경우?\n",
    "\n",
    "n = int(input())\n",
    "lst = [1, 2, 3, 4]\n",
    "sum = 0\n",
    "answer = 0\n",
    "def dfs(level):\n",
    "    global answer, sum\n",
    "    if level == n:\n",
    "        if sum == 10:\n",
    "            answer += 1\n",
    "        return\n",
    "    for i in range(4):\n",
    "        sum += lst[i]\n",
    "        dfs(level+1)\n",
    "        sum -= lst[i]\n",
    "\n",
    "dfs(0)\n",
    "print(answer)"
   ]
  },
  {
   "cell_type": "code",
   "execution_count": null,
   "metadata": {},
   "outputs": [],
   "source": [
    "# 조합\n",
    "# T, K, A, B 4명 중 3명이 놀이기구를 탈 수 있는 조합\n",
    "\n",
    "name = ['T', 'K', 'A', 'B']\n",
    "path = [0]*3\n",
    "cnt = 0\n",
    "def dfs(level, start):\n",
    "    global cnt\n",
    "    if level == 3:\n",
    "        print(*path)\n",
    "        cnt += 1\n",
    "        return \n",
    "    for i in range(start, 4):\n",
    "        path[level] = name[i]\n",
    "        dfs(level+1, i+1)\n",
    "\n",
    "dfs(0, 0)\n",
    "print(cnt)"
   ]
  },
  {
   "cell_type": "code",
   "execution_count": null,
   "metadata": {},
   "outputs": [],
   "source": [
    "# 중복 조합\n",
    "\n",
    "name = ['T', 'K', 'A', 'B']\n",
    "path = [0]*3\n",
    "cnt = 0\n",
    "def dfs(level, start):\n",
    "    global cnt\n",
    "    if level == 3:\n",
    "        print(*path)\n",
    "        cnt += 1\n",
    "        return \n",
    "    for i in range(start, 4):\n",
    "        path[level] = name[i]  \n",
    "        dfs(level+1, i)  #####\n",
    "\n",
    "dfs(0, 0)\n",
    "print(cnt)"
   ]
  },
  {
   "cell_type": "code",
   "execution_count": null,
   "metadata": {},
   "outputs": [],
   "source": [
    "# 부분집합\n",
    "# A, B, C, D 가 영화관을 갈 때 갈 수 있는 경우의 수?\n",
    "\n",
    "name = ['A', 'B', 'C', 'D']\n",
    "path = ['']*4\n",
    "cnt = 0\n",
    "def abc(level, start):\n",
    "    global cnt\n",
    "    cnt += 1\n",
    "    if level == 4:\n",
    "        return\n",
    "    for i in range(start, 4):\n",
    "        path[level] = name[i]\n",
    "        print(*path)\n",
    "        abc(level+1, i+1)\n",
    "        path[level] = ''\n",
    "\n",
    "abc(0, 0)\n",
    "print(cnt)\n",
    "\n",
    "# sol2\n",
    "A = 'ABCD'\n",
    "cnt = 0\n",
    "n = 4\n",
    "def abc(level,idx=0,S=''):\n",
    "    global cnt\n",
    "    print(S)\n",
    "    cnt+=1\n",
    "    if level==n:\n",
    "        return\n",
    "    for i in range(4):\n",
    "        if i>=idx:\n",
    "            abc(level+1,i+1,S+A[i])\n",
    "abc(0)\n",
    "print(cnt)"
   ]
  },
  {
   "cell_type": "code",
   "execution_count": null,
   "metadata": {},
   "outputs": [],
   "source": [
    "\n",
    "line1 = [-2, 3, 4, 9, -5, 2]\n",
    "line2 = [4, 7, -3, -6, -1, 2]\n",
    "used1 = [0]*6\n",
    "used2 = [0]*6\n",
    "Min = 21e8\n",
    "answer = 0\n",
    "def abc(level, sum):\n",
    "    global Min, answer\n",
    "    if level == 12:\n",
    "        # 0에 가장 가까운 sum 알아보기\n",
    "        if Min > abs(sum):\n",
    "            Min = abs(sum)\n",
    "            answer = sum\n",
    "        return\n",
    "    if level%2 == 0:\n",
    "        for i in range(6):\n",
    "            if used1[i] == 1: continue\n",
    "            used1[i] = 1\n",
    "            dfs(level+1, sum+((line1[i])*(level+1)))\n",
    "            used1[i] = 0\n",
    "    else:\n",
    "         for i in range(6):\n",
    "            if used2[i] == 1: continue\n",
    "            used2[i] = 1\n",
    "            dfs(level+1, sum+((line2[i])*(level+1)))\n",
    "            used2[i] = 0\n",
    "\n",
    "abc(0, 0)\n",
    "print(answer)"
   ]
  },
  {
   "cell_type": "code",
   "execution_count": 26,
   "metadata": {},
   "outputs": [
    {
     "name": "stdout",
     "output_type": "stream",
     "text": [
      "1\n"
     ]
    }
   ],
   "source": [
    "line1=[-2,3,4,9,-5,2]\n",
    "line2=[4,7,-3,-6,-1,2]\n",
    "used1=[0]*6\n",
    "used2=[0]*6\n",
    "Min=int(21e8)\n",
    "answer=0\n",
    "def dfs(level,sum):\n",
    "    global Min,answer\n",
    "    if level==12:\n",
    "        # 0에 가장 가까운 sum을 알아보기\n",
    "        if Min>abs(sum):\n",
    "            Min=abs(sum)\n",
    "            answer=sum\n",
    "        return\n",
    "    if level%2==0:\n",
    "        for i in range(6):\n",
    "            if used1[i]==1: continue\n",
    "            used1[i]=1\n",
    "            dfs(level+1,sum+(line1[i]*(level+1)))\n",
    "            used1[i]=0\n",
    "    else:\n",
    "        for i in range(6):\n",
    "            if used2[i]==1: continue\n",
    "            used2[i]=1\n",
    "            dfs(level+1,sum+(line2[i]*(level+1)))\n",
    "            used2[i]=0\n",
    "\n",
    "dfs(0,0) # level sum\n",
    "print(answer)"
   ]
  }
 ],
 "metadata": {
  "kernelspec": {
   "display_name": "Python 3",
   "language": "python",
   "name": "python3"
  },
  "language_info": {
   "name": "python",
   "version": "3.9.13"
  },
  "orig_nbformat": 4,
  "vscode": {
   "interpreter": {
    "hash": "c4b9ebf4ca459396e2ad1150752490c26670c1a037c08cad955a4425787bec2e"
   }
  }
 },
 "nbformat": 4,
 "nbformat_minor": 2
}
