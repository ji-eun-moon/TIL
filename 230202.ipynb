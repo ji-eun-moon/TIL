{
 "cells": [
  {
   "attachments": {},
   "cell_type": "markdown",
   "metadata": {},
   "source": [
    "##### 연속되는 N개의 합이 가장 클 때 의 값 구하기"
   ]
  },
  {
   "cell_type": "code",
   "execution_count": 7,
   "metadata": {},
   "outputs": [
    {
     "name": "stdout",
     "output_type": "stream",
     "text": [
      "16\n",
      "24\n"
     ]
    }
   ],
   "source": [
    "N = 3\n",
    "\n",
    "lst= [[4, 5, 2, 6, 7, 3, 1],\n",
    "      [2, 9, 9, 6, 1, 6, 7]]\n",
    "\n",
    "for i in range(len(lst)):\n",
    "\n",
    "    lst1 = lst[i][:]\n",
    "\n",
    "    sum_lst = []\n",
    "\n",
    "    for i in range(7-N):\n",
    "        sum = 0\n",
    "        for j in range(i, i+N):\n",
    "            sum += lst1[j]\n",
    "        sum_lst.append(sum)\n",
    "    \n",
    "    Max = sum_lst[0]\n",
    "    for i in range(len(sum_lst)):\n",
    "        if Max < sum_lst[i]:\n",
    "            Max = sum_lst[i]\n",
    "\n",
    "    print(Max)\n"
   ]
  },
  {
   "attachments": {},
   "cell_type": "markdown",
   "metadata": {},
   "source": [
    "- 함수를 이용한 풀이"
   ]
  },
  {
   "cell_type": "code",
   "execution_count": 8,
   "metadata": {},
   "outputs": [
    {
     "name": "stdout",
     "output_type": "stream",
     "text": [
      "24\n"
     ]
    }
   ],
   "source": [
    "N = 3\n",
    "lst= [[4, 5, 2, 6, 7, 3, 1],\n",
    "      [2, 9, 9, 6, 1, 6, 7]]\n",
    "\n",
    "Max=-21e8\n",
    "\n",
    "def getsum(a,b):\n",
    "      sum=0\n",
    "      for i in range(N):\n",
    "            sum += lst[a][b+i]  # 전달받은 좌표값부터 3곳의 합을 구한 후\n",
    "      return sum  # 구한 합을 반환하기\n",
    "\n",
    "for i in range(2):\n",
    "      for j in range(5):\n",
    "            ret = getsum(i,j)  # getsum 함수에 좌표값 전달 (0,0~1,4)\n",
    "            if ret > Max :  # 반환 되는 값 중 max값 갱신하기\n",
    "                  Max = ret\n",
    "print(Max)"
   ]
  },
  {
   "attachments": {},
   "cell_type": "markdown",
   "metadata": {},
   "source": [
    "##### 리스트에 숫자 4개 입력을 받은 후 입력받은 숫자라 lst 안에 존재하면 Y를 lst 안에 존재하지 않으면 N을 출력해 주세요"
   ]
  },
  {
   "cell_type": "code",
   "execution_count": 9,
   "metadata": {},
   "outputs": [],
   "source": [
    "lst= [[4, 5, 2, 6, 7],\n",
    "      [2, 9, 9, 6, 1],\n",
    "      [2, 9, 9, 6, 1]]\n",
    "\n",
    "# 숫자 입력\n",
    "num = [list(map(int, input().split())) for _ in range(2)]\n",
    "\n",
    "def findnum(value):\n",
    "    for i in range(3):\n",
    "        for j in range(5):\n",
    "            if lst[i][j] == value:\n",
    "                return 1\n",
    "    return 0\n",
    "\n",
    "for i in range(2):\n",
    "    for j in range(2):\n",
    "        ret = findnum(num[i][j])\n",
    "        if ret == 1:\n",
    "            print('Y', end=' ')\n",
    "        else:\n",
    "            print('N', end=' ')\n",
    "    print()"
   ]
  },
  {
   "attachments": {},
   "cell_type": "markdown",
   "metadata": {},
   "source": [
    "#### 정수 4개 입력받고 패턴 존재 여부 출력하기\n",
    "\n",
    "```\n",
    "# 1 1 2 1\n",
    "# 없음\n",
    "\n",
    "# 5 8 5 3\n",
    "# 존재함\n",
    "\n",
    "arr=[3,6,5,8,5,3,5,8,5,3,3,1,1,3]\n",
    "```"
   ]
  },
  {
   "cell_type": "code",
   "execution_count": null,
   "metadata": {},
   "outputs": [],
   "source": [
    "arr=[3,6,5,8,5,3,5,8,5,3,3,1,1,3]\n",
    "\n",
    "lst = list(map(int, input().split()))\n",
    "\n",
    "alen = len(arr)  # 14개\n",
    "\n",
    "def isPattern(index):\n",
    "    for i in range(4):\n",
    "        if arr[index+i] != lst[i]:\n",
    "            return 0\n",
    "    return 1\n",
    "\n",
    "flag = 0\n",
    "for i in range(alen-4+1):\n",
    "    ret = isPattern(i)\n",
    "    if ret == 1:\n",
    "        flag = 1\n",
    "        break\n",
    "\n",
    "if flag:\n",
    "    print('존재')\n",
    "else:\n",
    "    print('없음')"
   ]
  },
  {
   "cell_type": "code",
   "execution_count": null,
   "metadata": {},
   "outputs": [],
   "source": [
    "# 이차원 배열에 패턴이 몇개 존재 하는지 출력하기\n",
    "\n",
    "board = [\n",
    "    ['A','B','G','K'],\n",
    "    ['T','T','A','B'],\n",
    "    ['A','C','T','T']]\n",
    "\n",
    "ptn = [list(input()) for _ in range(2)]\n",
    "\n",
    "def findptn(by, bx):\n",
    "    for dy in range(2):\n",
    "        for dx in range(2):\n",
    "            if board[by+dy][bx+dx] != ptn[dy][dx]:\n",
    "                return 0\n",
    "    return 1\n",
    "\n",
    "cnt = 0\n",
    "for i in range(2):\n",
    "    for j in range(3):\n",
    "        if findptn(i,j) == 1:\n",
    "            cnt += 1\n",
    "\n",
    "if cnt != 0 :\n",
    "    print(f'발견 {cnt}개')\n",
    "else:\n",
    "    print('미발견')\n"
   ]
  }
 ],
 "metadata": {
  "kernelspec": {
   "display_name": "Python 3",
   "language": "python",
   "name": "python3"
  },
  "language_info": {
   "codemirror_mode": {
    "name": "ipython",
    "version": 3
   },
   "file_extension": ".py",
   "mimetype": "text/x-python",
   "name": "python",
   "nbconvert_exporter": "python",
   "pygments_lexer": "ipython3",
   "version": "3.9.13"
  },
  "orig_nbformat": 4,
  "vscode": {
   "interpreter": {
    "hash": "c4b9ebf4ca459396e2ad1150752490c26670c1a037c08cad955a4425787bec2e"
   }
  }
 },
 "nbformat": 4,
 "nbformat_minor": 2
}
