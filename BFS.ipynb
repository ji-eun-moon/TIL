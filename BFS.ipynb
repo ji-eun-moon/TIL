{
 "cells": [
  {
   "cell_type": "code",
   "execution_count": 2,
   "metadata": {},
   "outputs": [
    {
     "name": "stdout",
     "output_type": "stream",
     "text": [
      "A B C D\n"
     ]
    }
   ],
   "source": [
    "# 그래프 탐색\n",
    "\n",
    "from collections import deque\n",
    "\n",
    "name = ['A', 'B', 'C', 'D']\n",
    "\n",
    "arr = [[0, 1, 1, 0],\n",
    "       [0, 0, 1, 1],\n",
    "       [0, 1, 0, 1],\n",
    "       [0, 0, 0, 0]]\n",
    "\n",
    "path = []\n",
    "used = [0]*4\n",
    "\n",
    "def bfs(st):\n",
    "    global path\n",
    "    q = deque()\n",
    "    q.append(st)\n",
    "    used[st] = 1\n",
    "    while q:\n",
    "        now = q.popleft()\n",
    "        path.append(name[now])\n",
    "        for i in range(4):\n",
    "            if arr[now][i] == 1 and used[i] == 0:\n",
    "                used[i] = 1\n",
    "                q.append(i)\n",
    "\n",
    "bfs(0)\n",
    "print(*path)"
   ]
  },
  {
   "cell_type": "code",
   "execution_count": 4,
   "metadata": {},
   "outputs": [
    {
     "name": "stdout",
     "output_type": "stream",
     "text": [
      "5 4 3\n",
      "4 3 2\n",
      "3 2 1\n",
      "5\n"
     ]
    }
   ],
   "source": [
    "from collections import deque\n",
    "y, x = 2, 2  # 시작점\n",
    "arr = [[0]*3 for _ in range(3)]\n",
    "arr[y][x] = 1\n",
    "\n",
    "direct_y = [-1, 1, 0, 0]\n",
    "direct_x = [0, 0, -1, 1]\n",
    "\n",
    "q = deque()\n",
    "q.append([y, x])\n",
    "while q:\n",
    "    now = q.popleft()\n",
    "    y, x = now[0], now[1]\n",
    "    for i in range(4):\n",
    "        dy = y + direct_y[i]\n",
    "        dx = x + direct_x[i]\n",
    "        if 0 <= dy < 3 and 0 <= dx < 3:\n",
    "            if arr[dy][dx] == 0:\n",
    "                arr[dy][dx] = arr[y][x] + 1\n",
    "                answer = arr[dy][dx]\n",
    "                q.append([dy, dx])\n",
    "\n",
    "for a in arr:\n",
    "    print(*a)\n",
    "\n",
    "print(answer)"
   ]
  },
  {
   "cell_type": "code",
   "execution_count": null,
   "metadata": {},
   "outputs": [],
   "source": [
    "from collections import deque\n",
    "\n",
    "n = int(input())\n",
    "\n",
    "arr = [[0]*n for _ in range(n)]\n",
    "\n",
    "flower = list(map(int, input().split()))\n",
    "y1, x1 = flower[0], flower[1]\n",
    "y2, x2 = flower[2], flower[3]\n",
    "\n",
    "arr[y1][x1] = 1\n",
    "arr[y2][x2] = 1\n",
    "\n",
    "direct_y = [-1, 1, 0, 0]\n",
    "direct_x = [0, 0, -1, 1]\n",
    "\n",
    "def bfs(flower):\n",
    "    q = deque(flower)\n",
    "    while q:\n",
    "        nowy, nowx, level = q.popleft()\n",
    "        arr[nowy][nowx] = level\n",
    "        answer = level\n",
    "        for i in range(n):\n",
    "            if 0 <= dy < n and 0 <= dx < n:\n",
    "                if arr[dy][dx] == 0:\n",
    "                    arr[dy][dx] = arr[nowy][nowx] + 1\n",
    "\n",
    "bfs(flower)"
   ]
  },
  {
   "cell_type": "code",
   "execution_count": null,
   "metadata": {},
   "outputs": [],
   "source": [
    "\n",
    "from collections import deque\n",
    "n = int(input()) # 배열 크기입력\n",
    "flower = list(map(int, input().split())) # 좌표 입력\n",
    "y1, x1 = flower[0], flower[1] # 시작 좌표값 저장\n",
    "y2, x2 = flower[2], flower[3]\n",
    "flower = [(y1, x1,1), (y2, x2,1)] # 좌표 level을 같이 튜플로 넣기\n",
    "arr = [[0] * n for _ in range(n)]  # 화단 선언\n",
    "\n",
    "answer=0\n",
    "\n",
    "def bfs(flower):\n",
    "    global n, arr,answer\n",
    "    q=deque(flower)             # 큐에 시작좌표 넣어주기\n",
    "\n",
    "    while q:\n",
    "        nowy,nowx,level=q.popleft() \n",
    "\n",
    "        arr[nowy][nowx]=level   # 배열에 현재 레벨 넣어주기\n",
    "        answer=level            # 큐가 돌때마다 정답을 저장하기 \n",
    "\n",
    "        directy=[-1,1,0,0]\n",
    "        directx=[0,0,-1,1]\n",
    "\n",
    "        for i in range(4):\n",
    "            dy=nowy+directy[i]\n",
    "            dx=nowx+directx[i]\n",
    "            if not(0<=dy<n and 0<=dx<n):continue # 배열범위벗어나면 안됨\n",
    "            if arr[dy][dx]!=0: continue # 이미 꽃이 심어진곳 안됨\n",
    "            arr[dy][dx]=arr[nowy][nowx]+1 # 화단에 표시해주기\n",
    "            q.append((dy,dx,level+1)) # 큐에 푸쉬하기\n",
    "\n",
    "bfs(flower)\n",
    "\n",
    "for row in arr:\n",
    "    print(*row,sep=\"\")\n",
    "print(answer)\n"
   ]
  }
 ],
 "metadata": {
  "kernelspec": {
   "display_name": "Python 3",
   "language": "python",
   "name": "python3"
  },
  "language_info": {
   "codemirror_mode": {
    "name": "ipython",
    "version": 3
   },
   "file_extension": ".py",
   "mimetype": "text/x-python",
   "name": "python",
   "nbconvert_exporter": "python",
   "pygments_lexer": "ipython3",
   "version": "3.9.13"
  },
  "orig_nbformat": 4,
  "vscode": {
   "interpreter": {
    "hash": "c4b9ebf4ca459396e2ad1150752490c26670c1a037c08cad955a4425787bec2e"
   }
  }
 },
 "nbformat": 4,
 "nbformat_minor": 2
}
