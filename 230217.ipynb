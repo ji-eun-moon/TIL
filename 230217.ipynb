{
 "cells": [
  {
   "attachments": {},
   "cell_type": "markdown",
   "metadata": {},
   "source": [
    "### 구간합\n",
    "- Sliding Window\n",
    "- Prefix Sum\n",
    "- Two pointer"
   ]
  },
  {
   "attachments": {},
   "cell_type": "markdown",
   "metadata": {},
   "source": [
    "##### Sliding Window\n",
    "\n",
    "- 연속된 m 개의 숫자의 합이 max일 때 그 max 값?"
   ]
  },
  {
   "cell_type": "code",
   "execution_count": null,
   "metadata": {},
   "outputs": [],
   "source": [
    "n, m = map(int, input().split())\n",
    "lst = list(map(int, input().split()))\n",
    "\n",
    "# 첫 m개 구간의 합 구하기\n",
    "sum = 0\n",
    "for i in range(m):\n",
    "    sum += lst[i]\n",
    "\n",
    "# 가장 앞 인덱스 값 빼고 다음 구간 마지막 인덱스 값 더하면서 max 값 찾기\n",
    "Max = 0\n",
    "for j in range(n-m+1):\n",
    "    if sum > Max:\n",
    "        Max = sum\n",
    "    if i == n-m:\n",
    "        break\n",
    "    sum += lst[j+m]\n",
    "    sum -= lst[j]\n",
    "\n",
    "print(Max)"
   ]
  },
  {
   "cell_type": "code",
   "execution_count": null,
   "metadata": {},
   "outputs": [],
   "source": [
    "n,m=map(int,input().split())\n",
    "arr=list(map(int,input().split()))\n",
    "\n",
    "Max,sum=0,0\n",
    "\n",
    "for i in range(m): \n",
    "    sum+=arr[i]\n",
    "Max=sum\n",
    "for i in range(n-m):\n",
    "    sum += arr[i+m]\n",
    "    sum -= arr[i]\n",
    "    if sum > Max:\n",
    "        Max = sum\n",
    "print(Max)"
   ]
  },
  {
   "attachments": {},
   "cell_type": "markdown",
   "metadata": {},
   "source": [
    "- Two pointer"
   ]
  },
  {
   "cell_type": "code",
   "execution_count": 17,
   "metadata": {},
   "outputs": [
    {
     "name": "stdout",
     "output_type": "stream",
     "text": [
      "3\n"
     ]
    }
   ],
   "source": [
    "# n, m 입력 \n",
    "# n 개의 자연수 중 연속된 숫자들을 더했을 때 합이 m이 되는 경우는 몇가지?\n",
    "# 1 2 3 4 2 5 3 1 1 2\n",
    "\n",
    "n, m = map(int, input().split())\n",
    "lst = list(map(int, input().split()))\n",
    "\n",
    "high = 0\n",
    "low = 0\n",
    "cnt = 0\n",
    "sum = 0\n",
    "while True:\n",
    "    if sum >= m or high == n:  # 합이 target보다 크면\n",
    "        sum -= lst[low]\n",
    "        low += 1\n",
    "    elif sum < m:  # 합이 target보다 작으면\n",
    "        sum += lst[high]\n",
    "        high += 1\n",
    "    if sum == m:\n",
    "        cnt += 1\n",
    "    if low == n:\n",
    "        break\n",
    "    \n",
    "\n",
    "print(cnt)"
   ]
  },
  {
   "attachments": {},
   "cell_type": "markdown",
   "metadata": {},
   "source": [
    "### BFS\n",
    "- 지금 내 위치에서 갈수 있는 곳 다 적어주기 "
   ]
  },
  {
   "cell_type": "code",
   "execution_count": null,
   "metadata": {},
   "outputs": [],
   "source": [
    "from collections import deque\n",
    "\n",
    "name = list(input().split())  # A B C D E F\n",
    "\n",
    "arr = [[0, 1, 1, 0, 0, 0],\n",
    "       [0, 0, 0, 1, 1, 0],\n",
    "       [0, 0, 0, 0, 0, 1],\n",
    "       [0, 0, 0, 0, 0, 0],\n",
    "       [0, 0, 0, 0, 0, 0],\n",
    "       [0, 0, 0, 0, 0, 0]]\n",
    "\n",
    "answer = []  # 탐색 순서 저장 후 출력\n",
    "\n",
    "def bfs(st):  # 0 : 출발점\n",
    "    global answer\n",
    "    q = deque()\n",
    "    q.append(st)\n",
    "    while q:  # q가 비어있지않으면 계속 반복\n",
    "        now = q.popleft()\n",
    "        answer.append(name[now])\n",
    "        for i in range(6):\n",
    "            if arr[now][i] == 1:\n",
    "                q.append(i)\n",
    "\n",
    "bfs(0)\n",
    "print(answer)"
   ]
  },
  {
   "attachments": {},
   "cell_type": "markdown",
   "metadata": {},
   "source": [
    "- BFS 그래프 탐색"
   ]
  },
  {
   "cell_type": "code",
   "execution_count": 1,
   "metadata": {},
   "outputs": [
    {
     "name": "stdout",
     "output_type": "stream",
     "text": [
      "A B C D\n"
     ]
    }
   ],
   "source": [
    "from collections import deque\n",
    "\n",
    "name = ['A', 'B', 'C', 'D']\n",
    "\n",
    "arr = [[0, 1, 1, 0],\n",
    "       [0, 0, 1, 1],\n",
    "       [0, 1, 0, 1],\n",
    "       [0, 0, 0, 0]]\n",
    "\n",
    "answer = []\n",
    "used = [0]*4\n",
    "\n",
    "def bfs(st):\n",
    "    global answer\n",
    "    q = deque()\n",
    "    q.append(st)\n",
    "    used[st] = 1\n",
    "    while q:\n",
    "        now = q.popleft()\n",
    "        answer.append(name[now])\n",
    "        for i in range(4):\n",
    "            if arr[now][i] == 1 and used[i] == 0:\n",
    "                used[i] = 1\n",
    "                q.append(i)\n",
    "\n",
    "bfs(0)\n",
    "print(*answer)"
   ]
  },
  {
   "cell_type": "code",
   "execution_count": null,
   "metadata": {},
   "outputs": [],
   "source": [
    "from collections import deque\n",
    "n=int(input()) # 3\n",
    "y,x=map(int,input().split())  # 1,1 민들레 꽃씨가 떨어지는 좌표 입력\n",
    "arr=[[0]*n for _ in range(n)]  # 3*3 배열 선언\n",
    "\n",
    "arr[y][x]=1\n",
    "q=deque()\n",
    "q.append([y,x])   # 시작 좌표값 넣기\n",
    "while q:\n",
    "    now=q.popleft()\n",
    "    nowy,nowx=now[0],now[1]   # 현재의 좌표값\n",
    "    directy=[-1,1,0,0]\n",
    "    directx=[0,0,-1,1]\n",
    "    for i in range(4):\n",
    "        dy=nowy+directy[i]\n",
    "        dx=nowx+directx[i]\n",
    "        if 0<=dy<n and 0<=dx<n: # 배열의 범위를 벗어나지 않는다면\n",
    "            if arr[dy][dx]==0:  # 꽃이 아직 피지 않은 곳이라면 (중복체크)\n",
    "                arr[dy][dx]=arr[y][x]+1\n",
    "                q.append([dy,dx])\n",
    "\n",
    "for i in arr:\n",
    "    print(*i)"
   ]
  }
 ],
 "metadata": {
  "kernelspec": {
   "display_name": "Python 3",
   "language": "python",
   "name": "python3"
  },
  "language_info": {
   "codemirror_mode": {
    "name": "ipython",
    "version": 3
   },
   "file_extension": ".py",
   "mimetype": "text/x-python",
   "name": "python",
   "nbconvert_exporter": "python",
   "pygments_lexer": "ipython3",
   "version": "3.9.13"
  },
  "orig_nbformat": 4,
  "vscode": {
   "interpreter": {
    "hash": "c4b9ebf4ca459396e2ad1150752490c26670c1a037c08cad955a4425787bec2e"
   }
  }
 },
 "nbformat": 4,
 "nbformat_minor": 2
}
