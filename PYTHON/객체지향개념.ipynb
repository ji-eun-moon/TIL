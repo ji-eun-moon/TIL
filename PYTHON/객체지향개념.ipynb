{
 "cells": [
  {
   "attachments": {},
   "cell_type": "markdown",
   "metadata": {},
   "source": [
    "## 상속"
   ]
  },
  {
   "cell_type": "code",
   "execution_count": 1,
   "metadata": {},
   "outputs": [
    {
     "name": "stdout",
     "output_type": "stream",
     "text": [
      "8\n",
      "60\n",
      "7\n"
     ]
    }
   ],
   "source": [
    "# 상위클래스\n",
    "class plus_minus:\n",
    "    def __init__(self, first, second):\n",
    "        self.first = first\n",
    "        self.second = second\n",
    "    def plus(self):\n",
    "        result = self.first + self.second\n",
    "        return result\n",
    "    def minus(self):\n",
    "        result = self.first - self.second\n",
    "        return result\n",
    "\n",
    "ret1 = plus_minus(3, 5)\n",
    "print(ret1.plus())\n",
    "\n",
    "# 숫자 3개의 곱을 구해주는 하위클래스\n",
    "\n",
    "class morefunction(plus_minus):\n",
    "    def __init__(self, first, second, third):\n",
    "        super().__init__(first, second)\n",
    "        self.third = third\n",
    "    def mul(self):\n",
    "        result = self.first * self.second * self.third\n",
    "        return result\n",
    "\n",
    "ret2 = morefunction(3, 4, 5)\n",
    "print(ret2.mul())\n",
    "print(ret2.plus())  # 상위 클래스의 메소드도 사용 가능 \n",
    "# 단, 하위 클래스에서 생성된 메서드를 상위 클래스에서 사용은 불가능!"
   ]
  },
  {
   "attachments": {},
   "cell_type": "markdown",
   "metadata": {},
   "source": [
    "### 메서드 오버라이딩\n",
    "- 부모클래스의 메서드 이름과 기본 기능은 그대로 사용하지만, 특정 기능을 바꾸고 싶을 때 사용\n",
    "- 부모 클래스의 메서드를 자식클래스에서도 사용하고 싶다면 super() 사용"
   ]
  },
  {
   "cell_type": "code",
   "execution_count": 12,
   "metadata": {},
   "outputs": [
    {
     "name": "stdout",
     "output_type": "stream",
     "text": [
      "버그\n",
      "900\n",
      "[<class '__main__.morefunction'>, <class '__main__.plus_minus'>, <class 'object'>]\n"
     ]
    }
   ],
   "source": [
    "# 부모 클래스에서 상속받은 plus 메소드 기능에서 숫자 2개가 아닌 숫자 3개의 합이 100이 넘는다면 버그 출력\n",
    "\n",
    "class morefunction(plus_minus):\n",
    "\n",
    "    def __init__(self, first, second, third):\n",
    "        super().__init__(first, second)\n",
    "        self.third = third\n",
    "\n",
    "    def mul(self):\n",
    "        result = self.first * self.second * self.third\n",
    "        return result\n",
    "\n",
    "    def plus(self):\n",
    "        get_sum = self.first + self.second + self.third\n",
    "        if get_sum > 100:\n",
    "            return '버그'\n",
    "        else:\n",
    "            return get_sum\n",
    "    \n",
    "    def parents_plus(self):\n",
    "        ret = super().plus()  # 부모 메서드에서의 plus 메서드 호출 시 super 활용 가능\n",
    "        return ret\n",
    "    \n",
    "\n",
    "a = morefunction(1, 1, 99)\n",
    "print(a.plus())\n",
    "\n",
    "b = morefunction(500, 400, 200)\n",
    "print(b.parents_plus())\n",
    "\n",
    "print(morefunction.mro())  # 상속 구조 확인"
   ]
  },
  {
   "attachments": {},
   "cell_type": "markdown",
   "metadata": {},
   "source": [
    "## 추상화 \n",
    "- 공통적으로 들어가는 속성과 메서드는 상위클래스에서 구현해주고\n",
    "- 하위 클래스에는 해당 클래스의 고유 기능만 추가하는 것을 이론적으로 추상화라고 함"
   ]
  },
  {
   "cell_type": "markdown",
   "metadata": {},
   "source": [
    "\n",
    "## 다형성\n",
    "- 동일한 메서드가 클래스에 따라 다르게 행동할 수 있음\n",
    "- 메서드 오버라이딩이 대표적인 예"
   ]
  },
  {
   "cell_type": "markdown",
   "metadata": {},
   "source": [
    "\n",
    "## 캡슐화\n",
    "- 객체의 일부 구현 내용을 외부에서 사용하지 못하게 차단하는 것\n",
    "- 클래스 사용자가 클래스를 만든 개발자의 의도를 벗어나 사용하는 것을 막기 위해 사용\n",
    "- Public, Protected, Private Member"
   ]
  },
  {
   "cell_type": "code",
   "execution_count": 13,
   "metadata": {},
   "outputs": [
    {
     "name": "stdout",
     "output_type": "stream",
     "text": [
      "김싸피\n",
      "30\n",
      "30\n"
     ]
    }
   ],
   "source": [
    "class Person:\n",
    "\n",
    "    def __init__(self, name, age):\n",
    "        self.name = name\n",
    "        self._age = age  # Protected Member\n",
    "    \n",
    "    def get_age(self):\n",
    "        return self._age\n",
    "\n",
    "# 인스턴스를 만들고 get_age 메서드를 활용하여 호출 가능\n",
    "p1 = Person('김싸피', 30)\n",
    "print(p1.name)  # 김싸피\n",
    "print(p1.get_age())  # 30\n",
    "\n",
    "# _age에 직접 접근 가능 (암묵적 활용)\n",
    "print(p1._age)  # 30"
   ]
  },
  {
   "cell_type": "code",
   "execution_count": 14,
   "metadata": {},
   "outputs": [
    {
     "name": "stdout",
     "output_type": "stream",
     "text": [
      "김싸피\n",
      "30\n"
     ]
    },
    {
     "ename": "AttributeError",
     "evalue": "'Person' object has no attribute '__age'",
     "output_type": "error",
     "traceback": [
      "\u001b[1;31m---------------------------------------------------------------------------\u001b[0m",
      "\u001b[1;31mAttributeError\u001b[0m                            Traceback (most recent call last)",
      "Cell \u001b[1;32mIn[14], line 16\u001b[0m\n\u001b[0;32m     13\u001b[0m \u001b[39mprint\u001b[39m(p1\u001b[39m.\u001b[39mget_age())  \u001b[39m# 30\u001b[39;00m\n\u001b[0;32m     15\u001b[0m \u001b[39m# __age에 직접 접근 불가능\u001b[39;00m\n\u001b[1;32m---> 16\u001b[0m \u001b[39mprint\u001b[39m(p1\u001b[39m.\u001b[39;49m__age)  \u001b[39m# 30\u001b[39;00m\n\u001b[0;32m     17\u001b[0m \u001b[39m# AttributeError: 'Person' object has no attribute '__age'\u001b[39;00m\n",
      "\u001b[1;31mAttributeError\u001b[0m: 'Person' object has no attribute '__age'"
     ]
    }
   ],
   "source": [
    "class Person:\n",
    "\n",
    "    def __init__(self, name, age):\n",
    "        self.name = name\n",
    "        self.__age = age  # Private Member\n",
    "    \n",
    "    def get_age(self):\n",
    "        return self.__age\n",
    "\n",
    "# 인스턴스를 만들고 get_age 메서드를 활용하여 호출 가능\n",
    "p1 = Person('김싸피', 30)\n",
    "print(p1.name)  # 김싸피\n",
    "print(p1.get_age())  # 30\n",
    "\n",
    "# __age에 직접 접근 불가능\n",
    "print(p1.__age)  # 30\n",
    "# AttributeError: 'Person' object has no attribute '__age'"
   ]
  },
  {
   "attachments": {},
   "cell_type": "markdown",
   "metadata": {},
   "source": [
    "### getter 와 setter\n",
    "- 클래스의 private 속성 값을 getter와 setter을 이용하여 확인하고 변경할 수 있다."
   ]
  },
  {
   "cell_type": "code",
   "execution_count": 15,
   "metadata": {},
   "outputs": [
    {
     "name": "stdout",
     "output_type": "stream",
     "text": [
      "39\n",
      "29\n"
     ]
    }
   ],
   "source": [
    "class Person:\n",
    "    def __init__(self, name, age):\n",
    "        self.name = name\n",
    "        self.__age = age  # 언더스코어 2개를 붙여\n",
    "    \n",
    "    def getter(self):  # private한 속성 값을 확인하고자 함(getter 함수)\n",
    "        return self.__age\n",
    "    \n",
    "    def setter(self, value):  # private 한 속성 값을 변경하고자 함(setter함수)\n",
    "        self.__age = value\n",
    "\n",
    "k = Person('kevin', 39)\n",
    "print(k.getter())\n",
    "k.setter(29)\n",
    "print(k.getter())"
   ]
  },
  {
   "attachments": {},
   "cell_type": "markdown",
   "metadata": {},
   "source": [
    "- 데코레이터 함수 사용"
   ]
  },
  {
   "cell_type": "code",
   "execution_count": 19,
   "metadata": {},
   "outputs": [
    {
     "name": "stdout",
     "output_type": "stream",
     "text": [
      "39\n"
     ]
    }
   ],
   "source": [
    "class Person:\n",
    "\n",
    "    def __init__(self, name, age):\n",
    "        self.name = name\n",
    "        self.__age = age\n",
    "    \n",
    "    @property\n",
    "    def age(self):  # 관례상 setter getter 함수명은 변수명을 따른다.\n",
    "        return self.__age\n",
    "\n",
    "    @age.setter\n",
    "    def age(self, value):  # 관례상 setter getter 함수명은 변수명을 따른다.\n",
    "        return self.__age\n",
    "\n",
    "k = Person('kevin', 39)\n",
    "print(k.age)  # @property 데코레이터 사용을 하면 메서드 호출시 () 생략\n"
   ]
  }
 ],
 "metadata": {
  "kernelspec": {
   "display_name": "Python 3",
   "language": "python",
   "name": "python3"
  },
  "language_info": {
   "codemirror_mode": {
    "name": "ipython",
    "version": 3
   },
   "file_extension": ".py",
   "mimetype": "text/x-python",
   "name": "python",
   "nbconvert_exporter": "python",
   "pygments_lexer": "ipython3",
   "version": "3.9.13 (tags/v3.9.13:6de2ca5, May 17 2022, 16:36:42) [MSC v.1929 64 bit (AMD64)]"
  },
  "orig_nbformat": 4,
  "vscode": {
   "interpreter": {
    "hash": "c4b9ebf4ca459396e2ad1150752490c26670c1a037c08cad955a4425787bec2e"
   }
  }
 },
 "nbformat": 4,
 "nbformat_minor": 2
}
