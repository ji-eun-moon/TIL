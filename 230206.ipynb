{
 "cells": [
  {
   "attachments": {},
   "cell_type": "markdown",
   "metadata": {},
   "source": [
    "#### 연습문제 \n",
    "- 2*3 배열만큼 잘라서 합을 구할때 최대값? \n",
    "```\n",
    "arr=[[1, 5, 4, 2],\n",
    "    [1, 3, 4, 2],\n",
    "    [3, 5, 3, 2],\n",
    "    [2, 6, 4, 1]]\n",
    "```"
   ]
  },
  {
   "cell_type": "code",
   "execution_count": 1,
   "metadata": {},
   "outputs": [
    {
     "name": "stdout",
     "output_type": "stream",
     "text": [
      "23\n"
     ]
    }
   ],
   "source": [
    "arr=[[1, 5, 4, 2],\n",
    "    [1, 3, 4, 2],\n",
    "    [3, 5, 3, 2],\n",
    "    [2, 6, 4, 1]]\n",
    "\n",
    "def sum_arr(dy, dx):\n",
    "    sum = 0\n",
    "    for a in range(dy, dy+2):\n",
    "        for b in range(dx, dx+3):\n",
    "            sum += arr[a][b]\n",
    "    return sum\n",
    "\n",
    "Max = 0\n",
    "for i in range(3):\n",
    "    for j in range(2):\n",
    "        a = sum_arr(i,j)\n",
    "        if Max < a:\n",
    "            Max = a\n",
    "\n",
    "print(Max)"
   ]
  },
  {
   "attachments": {},
   "cell_type": "markdown",
   "metadata": {},
   "source": [
    "- 위 아래 좌 우 좌표들의 합이 가장 큰 곳의 합과 그 기준 좌표값을 출력하기"
   ]
  },
  {
   "cell_type": "code",
   "execution_count": null,
   "metadata": {},
   "outputs": [],
   "source": [
    "arr = [[1, 2, 3, 4],\n",
    "     [1, 2, 9, 4],\n",
    "     [1, 9, 3, 9],\n",
    "     [1, 2, 9, 4]]\n",
    "\n",
    "direct_y = [-1, 1, 0, 0]\n",
    "direct_x = [0, 0, -1, 1]\n",
    "\n",
    "def getsum(y, x):\n",
    "    sum = 0\n",
    "    for i in range(4):\n",
    "        dy = y + direct_y[i]\n",
    "        dx = x + direct_x[i]\n",
    "        if 0 <= dy <= 3 and 0 <= dx <= 3:\n",
    "            sum += arr[dy][dx]\n",
    "    return sum\n",
    "\n",
    "Max = 0\n",
    "for i in range(3):\n",
    "    for j in range(3):\n",
    "        ret = getsum(i, j)\n",
    "        if Max < ret:\n",
    "            Max = ret\n",
    "            idx = (i, j)\n",
    "\n",
    "print(Max, idx)"
   ]
  },
  {
   "attachments": {},
   "cell_type": "markdown",
   "metadata": {},
   "source": [
    "# Direct(방향, 델타) 배열 활용하기"
   ]
  },
  {
   "attachments": {},
   "cell_type": "markdown",
   "metadata": {},
   "source": [
    "##### 기준 좌표로부터 위, 아래, 좌, 우에 있는 좌표 값 합 구하기\n",
    "```\n",
    "arr = [[3, 5, 4],\n",
    "       [1, 1, 2],\n",
    "       [1, 3, 9]]\n",
    "```"
   ]
  },
  {
   "cell_type": "code",
   "execution_count": 2,
   "metadata": {},
   "outputs": [],
   "source": [
    "arr = [[3, 5, 4],\n",
    "       [1, 1, 2],\n",
    "       [1, 3, 9]]"
   ]
  },
  {
   "cell_type": "code",
   "execution_count": 3,
   "metadata": {},
   "outputs": [
    {
     "name": "stdout",
     "output_type": "stream",
     "text": [
      "11\n"
     ]
    }
   ],
   "source": [
    "y, x = map(int, input().split())\n",
    "\n",
    "direct_y = [-1, 1, 0, 0]\n",
    "direct_x = [0, 0, -1, 1]\n",
    "\n",
    "sum = 0\n",
    "for i in range(4):\n",
    "    dy = y + direct_y[i]\n",
    "    dx = x + direct_x[i]\n",
    "    sum += arr[dy][dx]\n",
    "\n",
    "print(sum)"
   ]
  },
  {
   "cell_type": "code",
   "execution_count": 4,
   "metadata": {},
   "outputs": [
    {
     "name": "stdout",
     "output_type": "stream",
     "text": [
      "11\n"
     ]
    }
   ],
   "source": [
    "y, x = map(int, input().split())\n",
    "\n",
    "direct = [[1, 0], [-1, 0], [0, 1], [0, -1]]\n",
    "\n",
    "sum = 0\n",
    "\n",
    "for i in range(4):\n",
    "    dy = y + direct[i][0]\n",
    "    dx = x + direct[i][1]\n",
    "    sum += arr[dy][dx]\n",
    "\n",
    "print(sum)"
   ]
  },
  {
   "attachments": {},
   "cell_type": "markdown",
   "metadata": {},
   "source": [
    "- 배열의 범위 벗어나지 않도록 제한 조건 만들기"
   ]
  },
  {
   "cell_type": "code",
   "execution_count": 5,
   "metadata": {},
   "outputs": [
    {
     "name": "stdout",
     "output_type": "stream",
     "text": [
      "11\n"
     ]
    }
   ],
   "source": [
    "y, x = map(int, input().split())\n",
    "sum = 0\n",
    "for i in range(4):\n",
    "    dy = y + direct_y[i]\n",
    "    dx = x + direct_x[i]\n",
    "    if dy < 0 or dx < 0 or dy > 2 or dx > 2:\n",
    "        continue\n",
    "    sum += arr[dy][dx]\n",
    "\n",
    "print(sum)"
   ]
  },
  {
   "cell_type": "code",
   "execution_count": 6,
   "metadata": {},
   "outputs": [
    {
     "name": "stdout",
     "output_type": "stream",
     "text": [
      "11\n"
     ]
    }
   ],
   "source": [
    "y, x = map(int, input().split())\n",
    "sum = 0\n",
    "for i in range(4):\n",
    "    dy = y + direct_y[i]\n",
    "    dx = x + direct_x[i]\n",
    "    if 0<=dy<=3 and 0<=dx<=3:\n",
    "        sum += arr[dy][dx]\n",
    "print(sum)"
   ]
  },
  {
   "attachments": {},
   "cell_type": "markdown",
   "metadata": {},
   "source": [
    "##### 기준좌표로부터 대각선 방향에 있는 값들의 곱 구하기"
   ]
  },
  {
   "cell_type": "code",
   "execution_count": 7,
   "metadata": {},
   "outputs": [
    {
     "name": "stdout",
     "output_type": "stream",
     "text": [
      "108\n"
     ]
    }
   ],
   "source": [
    "arr = [ [3, 5, 4, 5, 6],\n",
    "        [1, 1, 2, 7, 8],\n",
    "        [1, 2, 9, 1, 2],\n",
    "        [3, 5, 4, 5, 6],\n",
    "        [1, 1, 2, 7, 8]]\n",
    "\n",
    "y, x = map(int, input().split())\n",
    "\n",
    "direct_y = [-1, -1, 1, 1]\n",
    "direct_x = [-1, 1, -1, 1]\n",
    "\n",
    "multi = 1\n",
    "for i in range(4):\n",
    "    dy = y + direct_y[i]\n",
    "    dx = x + direct_x[i]\n",
    "    if 0 <= dy <= 4 and 0 <= dx <= 4:\n",
    "        multi *= arr[dy][dx]\n",
    "print(multi)"
   ]
  },
  {
   "attachments": {},
   "cell_type": "markdown",
   "metadata": {},
   "source": [
    "##### 위 아래 좌 우로 2칸까지 떨어진 곳들의 합을 구하기"
   ]
  },
  {
   "cell_type": "code",
   "execution_count": null,
   "metadata": {},
   "outputs": [],
   "source": [
    "arr = [ [3, 5, 4, 5, 6],\n",
    "        [1, 1, 2, 7, 8],\n",
    "        [1, 2, 9, 1, 2],\n",
    "        [3, 5, 4, 5, 6],\n",
    "        [1, 1, 2, 7, 8]]\n",
    "\n",
    "y, x = map(int, input().split())\n",
    "\n",
    "direct_dy = [1, -1, 0, 0]\n",
    "direct_dx = [ 0, 0, 1, -1]\n",
    "\n",
    "sum = 0\n",
    "for i in range(4):\n",
    "    for j in range(1, 3):\n",
    "        dy = y + j*direct_dy[i]\n",
    "        dx = x + j*direct_dx[i]\n",
    "        if 0 <= dy <= 4 and 0 <= dx <= 4:\n",
    "            sum += arr[dy][dx]\n",
    "\n",
    "print(sum)"
   ]
  },
  {
   "attachments": {},
   "cell_type": "markdown",
   "metadata": {},
   "source": [
    "# 십진수를 이진수로, 이진수를 십진수로 출력하기"
   ]
  },
  {
   "cell_type": "code",
   "execution_count": 8,
   "metadata": {},
   "outputs": [
    {
     "data": {
      "text/plain": [
       "'0b1010'"
      ]
     },
     "execution_count": 8,
     "metadata": {},
     "output_type": "execute_result"
    }
   ],
   "source": [
    "# 십진수 -> 이진수\n",
    "a = 10\n",
    "bin(a)"
   ]
  },
  {
   "cell_type": "code",
   "execution_count": 9,
   "metadata": {},
   "outputs": [
    {
     "name": "stdout",
     "output_type": "stream",
     "text": [
      "15\n"
     ]
    }
   ],
   "source": [
    "# 이진수 -> 십진수\n",
    "b = 0B1111\n",
    "print(b)"
   ]
  },
  {
   "cell_type": "code",
   "execution_count": 10,
   "metadata": {},
   "outputs": [
    {
     "name": "stdout",
     "output_type": "stream",
     "text": [
      "15\n"
     ]
    }
   ],
   "source": [
    "# 이진수 문자 값을 정수로 출력하기\n",
    "c = '0B1111'\n",
    "print(int(c,2))"
   ]
  },
  {
   "attachments": {},
   "cell_type": "markdown",
   "metadata": {},
   "source": [
    "# 비트 연산\n",
    "- `&` : and 연산 \n",
    "- `|` : or 연산\n",
    "- shift 연산\n",
    "    - `>>` : 2^n만큼 곱\n",
    "    - `<<` : 2^n만큼 나눔"
   ]
  },
  {
   "cell_type": "code",
   "execution_count": 12,
   "metadata": {},
   "outputs": [
    {
     "name": "stdout",
     "output_type": "stream",
     "text": [
      "1\n",
      "9\n"
     ]
    }
   ],
   "source": [
    "a = 0b0001\n",
    "b = 0b1001\n",
    "print(a & b)  # 0b0001 = 1\n",
    "print(a | b)  # 0b1001 = 9"
   ]
  },
  {
   "cell_type": "code",
   "execution_count": 19,
   "metadata": {},
   "outputs": [
    {
     "name": "stdout",
     "output_type": "stream",
     "text": [
      "4\n",
      "328\n",
      "0\n",
      "5\n"
     ]
    }
   ],
   "source": [
    "a = 0b0001  # 1\n",
    "b = 0b00101001  # 41\n",
    "print(a<<2)  # 0b0100 = 4\n",
    "print(b<<3)  # 0b101001000 = 328\n",
    "print(a>>1)  # 0b0 = 0\n",
    "print(b>>3)  # 0b00000101 = 5\n"
   ]
  }
 ],
 "metadata": {
  "kernelspec": {
   "display_name": "Python 3",
   "language": "python",
   "name": "python3"
  },
  "language_info": {
   "codemirror_mode": {
    "name": "ipython",
    "version": 3
   },
   "file_extension": ".py",
   "mimetype": "text/x-python",
   "name": "python",
   "nbconvert_exporter": "python",
   "pygments_lexer": "ipython3",
   "version": "3.9.13"
  },
  "orig_nbformat": 4,
  "vscode": {
   "interpreter": {
    "hash": "c4b9ebf4ca459396e2ad1150752490c26670c1a037c08cad955a4425787bec2e"
   }
  }
 },
 "nbformat": 4,
 "nbformat_minor": 2
}
