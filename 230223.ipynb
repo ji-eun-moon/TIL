{
 "cells": [
  {
   "attachments": {},
   "cell_type": "markdown",
   "metadata": {},
   "source": [
    "## 연습 문제 1\n",
    "- N 개의 간선 정보를 입력 받고 그룹의 개수 출력하기 \n",
    "- 정점: A B C D E F 라고 가정한다.\n",
    "\n",
    "    ```\n",
    "    입력\n",
    "    4\n",
    "    A E\n",
    "    C F\n",
    "    B D\n",
    "    E A\n",
    "\n",
    "    출력\n",
    "    3\n",
    "\n",
    "    입력\n",
    "    6\n",
    "    A E\n",
    "    F E\n",
    "    C E\n",
    "    C A\n",
    "    B D\n",
    "    D B\n",
    "\n",
    "    출력\n",
    "    2\n",
    "    ```\n",
    "    "
   ]
  },
  {
   "cell_type": "code",
   "execution_count": 6,
   "metadata": {},
   "outputs": [
    {
     "name": "stdout",
     "output_type": "stream",
     "text": [
      "2\n"
     ]
    }
   ],
   "source": [
    "arr = [0]*200\n",
    "\n",
    "def findboss(member):\n",
    "    if arr[ord(member)] == 0:\n",
    "        return member\n",
    "    ret = findboss(arr[ord(member)])\n",
    "    return ret\n",
    "\n",
    "def setunion(a, b):\n",
    "    fa, fb = findboss(a), findboss(b)\n",
    "    if fa == fb:\n",
    "        return\n",
    "    arr[ord(fb)] = fa\n",
    "\n",
    "N = int(input())\n",
    "\n",
    "for _ in range(N):\n",
    "    a, b = input().split()\n",
    "    setunion(a, b)\n",
    "\n",
    "cnt = 0\n",
    "for i in range(65, 71):\n",
    "    if arr[i] == 0:\n",
    "        cnt += 1\n",
    "\n",
    "print(cnt)\n"
   ]
  },
  {
   "cell_type": "code",
   "execution_count": 4,
   "metadata": {},
   "outputs": [
    {
     "name": "stdout",
     "output_type": "stream",
     "text": [
      "3\n"
     ]
    }
   ],
   "source": [
    "## 교수님 풀이\n",
    "\n",
    "n = int(input())  # 그룹화 시킬 횟수\n",
    "cnt = 6  # 그룹화 시키지 않았을 때\n",
    "\n",
    "arr = [0]*200\n",
    "\n",
    "def findboss(member):\n",
    "    if arr[ord(member)] == 0:\n",
    "        return member\n",
    "    ret = findboss(arr[ord(member)])\n",
    "    return ret\n",
    "\n",
    "def setunion(a, b):\n",
    "    fa, fb = findboss(a), findboss(b)\n",
    "    if fa == fb:\n",
    "        return\n",
    "    arr[ord(fb)] = fa\n",
    "\n",
    "for i in range(N):\n",
    "    y, x = input().split()\n",
    "    if findboss(y) != findboss(x):\n",
    "        setunion(y, x)\n",
    "        cnt -= 1\n",
    "\n",
    "print(cnt)\n"
   ]
  },
  {
   "attachments": {},
   "cell_type": "markdown",
   "metadata": {},
   "source": [
    "# 최소 신장 트리(MST, Minimum Spanning Tree)\n",
    "- 간선의 가중치를 고려하여 최소 비용의 Spanning Tree를 선택하는 것\n",
    "- Spanning Tree\n",
    "    - 최소 연결 부분 그래프\n",
    "    - 모든 정점들이 연결되어 있어야 하고 사이클을 포함해서는 안된다. \n",
    "    - k개의 정점을 k-1개로 연결한다.\n",
    "\n",
    "## Krustkal MST 알고리즘\n",
    "1. 그래프의 간선들을 가중치의 오름차순으로 정렬\n",
    "2. 정렬된 간선리스트에서 순서대로 사이클을 형성하지 않는 간선 선택\n",
    "    - 가장 낮은 가중치 먼저 선택\n",
    "    - 사이클을 형성하는 간선 제외 ; union-find 알고리즘 이용\n",
    "3. 해당 간선을 현재의 MST 집합에 추가"
   ]
  },
  {
   "cell_type": "code",
   "execution_count": null,
   "metadata": {},
   "outputs": [],
   "source": [
    "arr = [0]*200\n",
    "\n",
    "k = int(input())  # 정점 개수\n",
    "n = int(input())  # 간선의 정보 개수\n",
    "lst = [list(input().split()) for _ in range(n)]\n",
    "\n",
    "# 가중치 기준으로 sort\n",
    "lst.sort(key=lambda x:int(x[2]))\n",
    "\n",
    "def findboss(member):\n",
    "    if not arr[ord(member)]:\n",
    "        return member\n",
    "    ret = findboss(arr[ord(member)])\n",
    "    return ret\n",
    "\n",
    "def union(a, b):\n",
    "    global total, cnt\n",
    "    fa, fb = findboss(a), findboss(b)\n",
    "    if fa == fb:\n",
    "        return\n",
    "    total += int(lst[i][2])\n",
    "    cnt += 1  # 다리 개수 증가\n",
    "    arr[ord(fb)] = fa\n",
    "\n",
    "total = 0  # 최소 비용\n",
    "cnt = 0  # 다리 개수\n",
    "for i in range(n):\n",
    "    if cnt == k-1:  # k개의 정점을 k-1개로 연결\n",
    "        print(total)\n",
    "        break\n",
    "    union(lst[i][0], lst[i][1])\n"
   ]
  }
 ],
 "metadata": {
  "kernelspec": {
   "display_name": "Python 3",
   "language": "python",
   "name": "python3"
  },
  "language_info": {
   "codemirror_mode": {
    "name": "ipython",
    "version": 3
   },
   "file_extension": ".py",
   "mimetype": "text/x-python",
   "name": "python",
   "nbconvert_exporter": "python",
   "pygments_lexer": "ipython3",
   "version": "3.9.13"
  },
  "orig_nbformat": 4,
  "vscode": {
   "interpreter": {
    "hash": "c4b9ebf4ca459396e2ad1150752490c26670c1a037c08cad955a4425787bec2e"
   }
  }
 },
 "nbformat": 4,
 "nbformat_minor": 2
}
