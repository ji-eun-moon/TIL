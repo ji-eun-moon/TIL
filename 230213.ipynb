{
 "cells": [
  {
   "cell_type": "code",
   "execution_count": null,
   "metadata": {},
   "outputs": [],
   "source": [
    "# 복습 - n 개의 주사위 굴리기 (중복순열)\n",
    "n = int(input())\n",
    "num = [1, 2, 3, 4, 5, 6]\n",
    "path = [0]*n\n",
    "def abc(level):\n",
    "    if level == n:\n",
    "        for i in range(n):\n",
    "            print(path[i], end='')\n",
    "        print()\n",
    "        return\n",
    "    for i in range(6):\n",
    "        path[level] = num[i]\n",
    "        abc(level+1)\n",
    "\n",
    "abc(0)"
   ]
  },
  {
   "cell_type": "code",
   "execution_count": null,
   "metadata": {},
   "outputs": [],
   "source": [
    "# 중복 없는 경우의 수 (순열)\n",
    "\n",
    "n = int(input())\n",
    "dice = [1, 2, 3, 4]\n",
    "path = [0]*n\n",
    "used = [0]*4\n",
    "def abc(level):\n",
    "    if level == n:\n",
    "        for i in range(n):\n",
    "            print(path[i], end='')\n",
    "        print()\n",
    "        return\n",
    "    for i in range(4):\n",
    "        if used[i] == 1:\n",
    "            continue\n",
    "        path[level] = dice[i]\n",
    "        used[i] = 1\n",
    "        abc(level+1)\n",
    "        used[i] = 0\n",
    "\n",
    "abc(0)"
   ]
  },
  {
   "cell_type": "code",
   "execution_count": null,
   "metadata": {},
   "outputs": [],
   "source": [
    "n = int(input())\n",
    "dice = [1, 2, 3, 4, 5, 6]\n",
    "used = [0]*6\n",
    "path = [0]*n\n",
    "\n",
    "def abc(level):\n",
    "    if level == n:\n",
    "        for i in range(n):\n",
    "            print(path[i], end=' ')\n",
    "        print()\n",
    "        return\n",
    "    for i in range(6):\n",
    "        if used[i] == 1:\n",
    "            continue\n",
    "        path[level] = dice[i]\n",
    "        used[i] = 1\n",
    "        abc(level+1)\n",
    "        used[i] = 0\n",
    "\n",
    "abc(0)"
   ]
  },
  {
   "cell_type": "code",
   "execution_count": null,
   "metadata": {},
   "outputs": [],
   "source": [
    "# 첫번째 주사위 눈금이 2인 경우 제외하기\n",
    "\n",
    "# 1. i = 2 인 경우 진입 하지 않기\n",
    "n = 3\n",
    "dice = [1, 2, 3, 4]\n",
    "path = [0]*3\n",
    "\n",
    "def abc(level):\n",
    "    if level == 3:\n",
    "        for i in range(3):\n",
    "            print(path[i], end=' ')\n",
    "        print()\n",
    "        return\n",
    "    for i in range(4):\n",
    "        if level == 0 and dice[i] == 2:\n",
    "            continue\n",
    "        path[level] = dice[i]\n",
    "        abc(level+1)\n",
    "abc(0)\n",
    "\n",
    "#2. i = 2 일때 진입했다가 리턴하기\n",
    "n = 3\n",
    "dice = [1, 2, 3, 4]\n",
    "path = [0]*3\n",
    "\n",
    "def abc(level):\n",
    "    if path[0] == 2:\n",
    "        return\n",
    "    if level == 3:\n",
    "        for i in range(3):\n",
    "            print(path[i], end=' ')\n",
    "        print()\n",
    "        return\n",
    "    for i in range(4):\n",
    "        path[level] = dice[i]\n",
    "        abc(level+1)\n",
    "abc(0)"
   ]
  },
  {
   "cell_type": "code",
   "execution_count": null,
   "metadata": {},
   "outputs": [],
   "source": [
    "# A, B, C, D 가 젹혀 있는 카드 3묶음이 있다. 각 묶음에서 카드를 한장씩 뽑았을 때 c로 시작하는 경우 제외\n",
    "n = 3\n",
    "card = ['A', 'B', 'C', 'D']\n",
    "path = [0]*3\n",
    "\n",
    "def abc(level):\n",
    "    if path[0] == 'C':\n",
    "        return\n",
    "    if level == 3:\n",
    "        for i in range(3):\n",
    "            print(path[i], end='')\n",
    "        print()\n",
    "        return\n",
    "    for i in range(4):\n",
    "        path[level] = card[i]\n",
    "        abc(level+1)\n",
    "\n",
    "abc(0)"
   ]
  },
  {
   "cell_type": "code",
   "execution_count": null,
   "metadata": {},
   "outputs": [],
   "source": [
    "# B는 뽑지 않는다. \n",
    "\n",
    "n = 3\n",
    "card = ['A', 'B', 'C', 'D']\n",
    "path = [0]*3\n",
    "\n",
    "def abc(level):\n",
    "    if level == 3:\n",
    "        for i in range(3):\n",
    "            print(path[i], end='')\n",
    "        print()\n",
    "        return\n",
    "    for i in range(4):\n",
    "        if card[i] == 'B':\n",
    "            continue\n",
    "        path[level] = card[i]\n",
    "        abc(level+1)\n",
    "\n",
    "abc(0)"
   ]
  },
  {
   "cell_type": "code",
   "execution_count": null,
   "metadata": {},
   "outputs": [],
   "source": [
    "# B는 뽑지 않는다. - (2)\n",
    "\n",
    "n = 3\n",
    "card = ['A', 'B', 'C', 'D']\n",
    "path = [0]*3\n",
    "\n",
    "def abc(level):\n",
    "    if 'B' in path:\n",
    "        return\n",
    "    if level == 3:\n",
    "        for i in range(3):\n",
    "            print(path[i], end='')\n",
    "        print()\n",
    "        return\n",
    "    for i in range(4):\n",
    "        path[level] = card[i]\n",
    "        abc(level+1)\n",
    "\n",
    "abc(0)\n",
    "\n",
    "# B는 뽑지 않는다. - (3)\n",
    "\n",
    "n = 3\n",
    "card = ['A', 'B', 'C', 'D']\n",
    "path = [0]*3\n",
    "\n",
    "def abc(level):\n",
    "    if level>0 and path[level-1] =='B':\n",
    "        return\n",
    "    if level == 3:\n",
    "        for i in range(3):\n",
    "            print(path[i], end='')\n",
    "        print()\n",
    "        return\n",
    "    for i in range(4):\n",
    "        path[level] = card[i]\n",
    "        abc(level+1)\n",
    "\n",
    "abc(0)"
   ]
  },
  {
   "cell_type": "code",
   "execution_count": null,
   "metadata": {},
   "outputs": [],
   "source": [
    "# 연속해서 같은 카드를 뽑으면 안됨 - (1)\n",
    "\n",
    "n = 3\n",
    "card = ['A', 'B', 'C', 'D']\n",
    "path = [0]*3\n",
    "\n",
    "def abc(level):\n",
    "    if level == 3:\n",
    "        for i in range(3):\n",
    "            print(path[i], end='')\n",
    "        print()\n",
    "        return\n",
    "    for i in range(4):\n",
    "        if level>0 and (path[level-1] == card[i]):\n",
    "            continue\n",
    "        path[level] = card[i]\n",
    "        abc(level+1)\n",
    "\n",
    "abc(0)"
   ]
  },
  {
   "cell_type": "code",
   "execution_count": null,
   "metadata": {},
   "outputs": [],
   "source": [
    "# 연속해서 같은 카드를 뽑으면 안됨 - (2)\n",
    "\n",
    "n = 3\n",
    "card = ['A', 'B', 'C', 'D']\n",
    "path = [0]*3\n",
    "\n",
    "def abc(level):\n",
    "    if level > 1 and (path[level-1] == path[level-2]):\n",
    "        return\n",
    "    if level == 3:\n",
    "        for i in range(3):\n",
    "            print(path[i], end='')\n",
    "        print()\n",
    "        return\n",
    "    for i in range(4):\n",
    "        path[level] = card[i]\n",
    "        abc(level+1)\n",
    "\n",
    "abc(0)"
   ]
  },
  {
   "cell_type": "code",
   "execution_count": 50,
   "metadata": {},
   "outputs": [
    {
     "name": "stdout",
     "output_type": "stream",
     "text": [
      "A B C \n",
      "A B D \n",
      "A C D \n",
      "B C D \n"
     ]
    }
   ],
   "source": [
    "# 조합 - (1)\n",
    "n = 3\n",
    "card = ['A', 'B', 'C', 'D']\n",
    "path = [0]*3\n",
    "\n",
    "def abc(level):\n",
    "    if level == n:\n",
    "        for i in range(n):\n",
    "            print(path[i], end=' ')\n",
    "        print()\n",
    "        return\n",
    "    for i in range(4):\n",
    "        if level > 0 and path[level-1] >= card[i]:  # 앞으로 들어갈 곳이 그 전보다 커야함\n",
    "            continue\n",
    "        path[level] = card[i]\n",
    "        used[i] = 1\n",
    "        abc(level+1)\n",
    "    \n",
    "abc(0)"
   ]
  },
  {
   "cell_type": "code",
   "execution_count": 51,
   "metadata": {},
   "outputs": [
    {
     "name": "stdout",
     "output_type": "stream",
     "text": [
      "A B C \n",
      "A B D \n",
      "A C D \n",
      "B C D \n"
     ]
    }
   ],
   "source": [
    "# 조합 - (2)\n",
    "n = 3\n",
    "card = ['A', 'B', 'C', 'D']\n",
    "path = [0]*3\n",
    "\n",
    "def abc(level, start):\n",
    "    if level == n:\n",
    "        for i in range(n):\n",
    "            print(path[i], end=' ')\n",
    "        print()\n",
    "        return\n",
    "    for i in range(start, 4):\n",
    "        path[level] = card[i]\n",
    "        used[i] = 1\n",
    "        abc(level+1, i+1)\n",
    "    \n",
    "abc(0, 0)"
   ]
  },
  {
   "attachments": {
    "image.png": {
     "image/png": "[encoded data removed]"
    }
   },
   "cell_type": "markdown",
   "metadata": {},
   "source": [
    "![image.png](attachment:image.png)"
   ]
  },
  {
   "cell_type": "code",
   "execution_count": null,
   "metadata": {},
   "outputs": [],
   "source": [
    "people = ['A', 'B', 'D', 'C', 'E', 'F']\n",
    "\n",
    "#1. 인접행렬\n",
    "arr = [ [0, 1, 0, 1, 0, 0],\n",
    "        [0, 0, 1, 0, 0, 0],\n",
    "        [0, 0, 0, 0, 0, 0],\n",
    "        [0, 0, 0, 0, 1, 1],\n",
    "        [0, 0, 0, 0, 0, 0],\n",
    "        [0, 0, 0, 0, 0, 0] ]\n",
    "\n",
    "#2. 인접 리스트\n",
    "lst = [[] for _ in range(6)]\n",
    "lst[0].append(people[1])\n",
    "lst[0].append(people[3])\n",
    "lst[1].append(people[2])\n",
    "lst[3].append(people[4])\n",
    "lst[3].append(people[5])\n"
   ]
  },
  {
   "attachments": {
    "image.png": {
     "image/png": "[encoded data removed]"
    }
   },
   "cell_type": "markdown",
   "metadata": {},
   "source": [
    "![image.png](attachment:image.png)"
   ]
  },
  {
   "cell_type": "code",
   "execution_count": 55,
   "metadata": {},
   "outputs": [
    {
     "name": "stdout",
     "output_type": "stream",
     "text": [
      "Bob\n"
     ]
    }
   ],
   "source": [
    "# 가장 인기가 많은 사람은?\n",
    "\n",
    "people = ['Amy', 'Bob', 'Chloe', 'Diane', 'Edger']\n",
    "\n",
    "arr = [ [0, 0, 1, 0, 1],\n",
    "        [1, 0, 0, 0, 0],\n",
    "        [0, 1, 0, 0, 0],\n",
    "        [0, 1, 0, 0, 0],\n",
    "        [0, 0, 0, 1, 0] ]\n",
    "\n",
    "cnt = [0]*5\n",
    "for j in range(5):\n",
    "    for i in range(5):\n",
    "        if arr[i][j] == 1:\n",
    "            cnt[j] += 1\n",
    "\n",
    "maxidx = 0\n",
    "for i in range(5):\n",
    "    if cnt[i] > cnt[maxidx]:\n",
    "        maxidx = i\n",
    "\n",
    "print(people[maxidx])\n"
   ]
  },
  {
   "attachments": {
    "image.png": {
     "image/png": "[encoded data removed]"
    }
   },
   "cell_type": "markdown",
   "metadata": {},
   "source": [
    "![image.png](attachment:image.png)"
   ]
  },
  {
   "cell_type": "code",
   "execution_count": 142,
   "metadata": {},
   "outputs": [
    {
     "name": "stdout",
     "output_type": "stream",
     "text": [
      "형제 없음\n"
     ]
    }
   ],
   "source": [
    "# 문제를 하나 입력받아 입력받은 문자의 형제노드 출력\n",
    "people =['A', 'B', 'C', 'D', 'E', 'F']\n",
    "\n",
    "a = input()\n",
    "arr = [ [0, 1, 1, 0, 0, 0],\n",
    "        [0, 0, 0, 1, 1, 0],\n",
    "        [0, 0, 0, 0, 0, 1],\n",
    "        [0, 0, 0, 0, 0, 0],\n",
    "        [0, 0, 0, 0, 0, 0],\n",
    "        [0, 0, 0, 0, 0, 0] ]\n",
    "\n",
    "# 입력 받은 문자의 인덱스 찾기\n",
    "for i in range(6):\n",
    "    if people[i] == a:\n",
    "        idx = i\n",
    "\n",
    "# 입력받은 문자의 부모 찾기\n",
    "parents = -1\n",
    "for i in range(6):\n",
    "    if arr[i][idx] == 1:\n",
    "        parents = i\n",
    "\n",
    "if parents == -1:  # 부모가 없으면 '형제 없음'출력\n",
    "    print('형제 없음')\n",
    "else:\n",
    "    result = '형제 없음'\n",
    "    for j in range(6):\n",
    "        if arr[parents][j] == 1 and people[j] != a:  # 부모 배열에서 입력받은 값이 아닌 것이 형제 노드\n",
    "            result = people[j]\n",
    "    print(result)"
   ]
  }
 ],
 "metadata": {
  "kernelspec": {
   "display_name": "Python 3",
   "language": "python",
   "name": "python3"
  },
  "language_info": {
   "codemirror_mode": {
    "name": "ipython",
    "version": 3
   },
   "file_extension": ".py",
   "mimetype": "text/x-python",
   "name": "python",
   "nbconvert_exporter": "python",
   "pygments_lexer": "ipython3",
   "version": "3.9.13"
  },
  "orig_nbformat": 4,
  "vscode": {
   "interpreter": {
    "hash": "c4b9ebf4ca459396e2ad1150752490c26670c1a037c08cad955a4425787bec2e"
   }
  }
 },
 "nbformat": 4,
 "nbformat_minor": 2
}
