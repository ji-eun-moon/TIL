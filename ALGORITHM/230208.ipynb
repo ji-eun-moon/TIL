{
 "cells": [
  {
   "attachments": {},
   "cell_type": "markdown",
   "metadata": {},
   "source": [
    "# 230208 실습 (재귀호출 연습)"
   ]
  },
  {
   "cell_type": "code",
   "execution_count": null,
   "metadata": {},
   "outputs": [],
   "source": [
    "# 주사위를 n개 굴렸을 때 나올 수 있는 경우\n",
    "\n",
    "n = int(input())\n",
    "\n",
    "def abc(level, path):\n",
    "    if level == n:\n",
    "        print(path)\n",
    "        return\n",
    "    for i in range(1, 7):\n",
    "        abc(level+1, path+str(i))\n",
    "\n",
    "abc(0, '')"
   ]
  },
  {
   "cell_type": "code",
   "execution_count": null,
   "metadata": {},
   "outputs": [],
   "source": [
    "# 디버깅 하면서 이해하기\n",
    "\n",
    "def abc(level):\n",
    "    if level == 2:\n",
    "        return\n",
    "    abc(level+1)\n",
    "    dummy = 1\n",
    "\n",
    "abc(0)"
   ]
  },
  {
   "cell_type": "code",
   "execution_count": 34,
   "metadata": {},
   "outputs": [
    {
     "name": "stdout",
     "output_type": "stream",
     "text": [
      "0 1 2 3 4 5 4 3 2 1 0 "
     ]
    }
   ],
   "source": [
    "# 0 1 2 3 4 5 4 3 2 1 0 출력하기\n",
    "\n",
    "def abc(num):\n",
    "    print(num, end=' ')\n",
    "    if num == 5:\n",
    "        return\n",
    "    abc(num+1)\n",
    "    print(num, end=' ')\n",
    "\n",
    "abc(0)"
   ]
  },
  {
   "cell_type": "code",
   "execution_count": 35,
   "metadata": {},
   "outputs": [
    {
     "name": "stdout",
     "output_type": "stream",
     "text": [
      "7 6 5 4 3 2 2 3 4 5 6 7 \n",
      "7 6 5 4 3 2 2 3 4 5 6 7 "
     ]
    }
   ],
   "source": [
    "# 7 6 5 4 3 2 2 3 4 5 6 7 출력하기\n",
    "\n",
    "def abc(num):\n",
    "    if num == 1:\n",
    "        return\n",
    "    print(num, end=' ')\n",
    "    abc(num-1)\n",
    "    print(num, end=' ')\n",
    "    \n",
    "abc(7)\n",
    "\n",
    "print()\n",
    "\n",
    "def abc(num):\n",
    "    print(num, end=' ')\n",
    "    if num == 2:\n",
    "        print(num, end=' ')\n",
    "        return\n",
    "    abc(num-1)\n",
    "    print(num, end=' ')\n",
    "abc(7)\n"
   ]
  },
  {
   "cell_type": "code",
   "execution_count": null,
   "metadata": {},
   "outputs": [],
   "source": [
    "# 정수 하나 입력받은 후 함수를 3번 호출하면서 입력받은 수에 2씩 더한다.\n",
    "\n",
    "N = int(input())\n",
    "\n",
    "def abc(level, value):\n",
    "    if level == 3:\n",
    "        print(value)\n",
    "        return\n",
    "    abc(level+1, value+2)\n",
    "    print(value)\n",
    "\n",
    "abc(0, N)"
   ]
  },
  {
   "cell_type": "code",
   "execution_count": 32,
   "metadata": {},
   "outputs": [
    {
     "name": "stdout",
     "output_type": "stream",
     "text": [
      "3 7 12 13 19 28 \n",
      "3 7 12 13 19 28 "
     ]
    }
   ],
   "source": [
    "# 누적합 구하기\n",
    "\n",
    "arr = [3, 4, 5, 1, 6, 9]\n",
    "\n",
    "# sum이 매개변수\n",
    "def abc(level, sum):\n",
    "    print(sum, end=' ')\n",
    "    if level == 5:\n",
    "        return\n",
    "    abc(level+1, sum+arr[level+1])\n",
    "abc(0, arr[0])\n",
    "print()\n",
    "\n",
    "# sum이 전역변수\n",
    "sum=arr[0]\n",
    "def abc(level):\n",
    "    global sum\n",
    "    print(sum, end=' ')\n",
    "    if level==5:\n",
    "        return\n",
    "    sum+=arr[level+1]\n",
    "    abc(level+1)\n",
    "abc(0)"
   ]
  },
  {
   "cell_type": "code",
   "execution_count": 37,
   "metadata": {},
   "outputs": [
    {
     "name": "stdout",
     "output_type": "stream",
     "text": [
      "28 19 13 12 7 3 \n",
      "28 19 13 12 7 3 "
     ]
    }
   ],
   "source": [
    "# 28 19 13 12 7 3 출력하기\n",
    "\n",
    "arr = [3, 4, 5, 1, 6, 9]\n",
    "\n",
    "# sum이 매개변수\n",
    "def abc(level, sum):\n",
    "    if level == 5:\n",
    "        print(sum, end=' ')\n",
    "        return\n",
    "    abc(level+1, sum+arr[level+1])\n",
    "    print(sum, end=' ')\n",
    "abc(0, arr[0])\n",
    "\n",
    "print()\n",
    "\n",
    "# sum이 전역변수 \n",
    "arr = [3, 4, 5, 1, 6, 9]\n",
    "sum = arr[0]\n",
    "def abc(level):\n",
    "    global sum\n",
    "    if level == 5:\n",
    "        print(sum, end=' ')\n",
    "        return\n",
    "    sum += arr[level+1]\n",
    "    abc(level+1)\n",
    "    sum -= arr[level+1]\n",
    "    print(sum, end =' ')\n",
    "abc(0)"
   ]
  },
  {
   "cell_type": "code",
   "execution_count": 40,
   "metadata": {},
   "outputs": [],
   "source": [
    "# 두번 호출 디버깅하며 연습하기\n",
    "\n",
    "def abc(level):\n",
    "    if level == 2:\n",
    "        return\n",
    "    abc(level+1)\n",
    "    abc(level+1)\n",
    "    dummy = 1\n",
    "\n",
    "abc(0)\n",
    "    "
   ]
  },
  {
   "cell_type": "code",
   "execution_count": null,
   "metadata": {},
   "outputs": [],
   "source": [
    "def abc(level):\n",
    "    if level == 2:\n",
    "        return\n",
    "    for i in range(2):\n",
    "        abc(level+1)\n",
    "        dummy = 1\n",
    "\n",
    "abc(0)"
   ]
  }
 ],
 "metadata": {
  "kernelspec": {
   "display_name": "Python 3",
   "language": "python",
   "name": "python3"
  },
  "language_info": {
   "codemirror_mode": {
    "name": "ipython",
    "version": 3
   },
   "file_extension": ".py",
   "mimetype": "text/x-python",
   "name": "python",
   "nbconvert_exporter": "python",
   "pygments_lexer": "ipython3",
   "version": "3.9.13"
  },
  "orig_nbformat": 4,
  "vscode": {
   "interpreter": {
    "hash": "c4b9ebf4ca459396e2ad1150752490c26670c1a037c08cad955a4425787bec2e"
   }
  }
 },
 "nbformat": 4,
 "nbformat_minor": 2
}
