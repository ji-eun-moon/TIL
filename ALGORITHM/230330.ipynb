{
 "cells": [
  {
   "attachments": {},
   "cell_type": "markdown",
   "metadata": {},
   "source": [
    "# 최대공약수(GCD ; Greatest Common Divisor) \n",
    "\n",
    "38 8\n",
    "2 부터 8 까지의 수로 두 수를 나누었을 때\n",
    "각각 0으로 떨어지는 수들 중에서 가장 큰 수"
   ]
  },
  {
   "cell_type": "code",
   "execution_count": 2,
   "metadata": {},
   "outputs": [
    {
     "name": "stdout",
     "output_type": "stream",
     "text": [
      "2\n"
     ]
    }
   ],
   "source": [
    "answer = 0\n",
    "a, b = map(int, input().split())\n",
    "for i in range(2, min(a, b)+1):\n",
    "    if a % i == 0 and b % i == 0:\n",
    "        answer = i\n",
    "print(answer)"
   ]
  },
  {
   "cell_type": "code",
   "execution_count": 3,
   "metadata": {},
   "outputs": [
    {
     "name": "stdout",
     "output_type": "stream",
     "text": [
      "2\n"
     ]
    }
   ],
   "source": [
    "# 유클리드 호제법\n",
    "\n",
    "a, b = map(int, input().split())\n",
    "\n",
    "while True:\n",
    "    if b == 0:\n",
    "        break\n",
    "    answer = a % b\n",
    "    a = b\n",
    "    b = answer\n",
    "\n",
    "print(a)"
   ]
  },
  {
   "attachments": {},
   "cell_type": "markdown",
   "metadata": {},
   "source": [
    "# 최소 공배수 (LCM ; Least common multiple)"
   ]
  },
  {
   "cell_type": "code",
   "execution_count": 7,
   "metadata": {},
   "outputs": [
    {
     "name": "stdout",
     "output_type": "stream",
     "text": [
      "24\n"
     ]
    }
   ],
   "source": [
    "a, b = map(int, input().split())\n",
    "\n",
    "def GCD(a, b):\n",
    "    while True:\n",
    "        if b == 0:\n",
    "            break\n",
    "        answer = a % b\n",
    "        a = b\n",
    "        b = answer\n",
    "    return a\n",
    "\n",
    "gcd = GCD(a, b)\n",
    "\n",
    "answer = gcd * (a//gcd) * (b//gcd)\n",
    "print(answer)"
   ]
  }
 ],
 "metadata": {
  "kernelspec": {
   "display_name": "Python 3",
   "language": "python",
   "name": "python3"
  },
  "language_info": {
   "codemirror_mode": {
    "name": "ipython",
    "version": 3
   },
   "file_extension": ".py",
   "mimetype": "text/x-python",
   "name": "python",
   "nbconvert_exporter": "python",
   "pygments_lexer": "ipython3",
   "version": "3.9.13"
  },
  "orig_nbformat": 4
 },
 "nbformat": 4,
 "nbformat_minor": 2
}
