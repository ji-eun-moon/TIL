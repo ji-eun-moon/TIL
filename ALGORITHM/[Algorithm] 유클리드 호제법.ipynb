{
 "cells": [
  {
   "attachments": {},
   "cell_type": "markdown",
   "metadata": {},
   "source": [
    "# 유클리드 호제법(Euclidean algorithm)\n",
    "- 2개의 자연수의 최대공약수(GCD, Greatest Common Divisor)를 구하는 알고리즘\n",
    "- 2개의 자연수 a, b에 대해서 a를 b로 나눈 나머지를 r이라 하면(단, a>b), a와 b의 최대공약수는 b와 r의 최대공약수와 같다.\n",
    "## 알고리즘\n",
    "1. 큰 수를 작은 수로 나누는 MOD 연산을 수행한다.\n",
    "2. 앞 단계에서의 작은 수와 MOD 연산 결괏값(나머지)으로 MOD 연산을 수행한다.\n",
    "3. 단계 2를 반복하다가 나머지가 0이 되는 순간의 작은 수가 최대공약수이다.\n",
    "\n",
    "## 그림으로 이해하기\n",
    "- 270과 192의 최대공약수를 유클리드 호제법으로 찾아보자.\n",
    "\n",
    "![](https://velog.velcdn.com/images/mjieun/post/88e5591c-7789-4369-b81a-a840cb1196b4/image.png)\n",
    "- 위에서 설명한 알고리즘대로 연산을 수행하면 270과 192의 최대 공약수는 **6**이 된다.\n",
    "\n",
    "## 코드 작성하기\n",
    "- 위에서 설명한 알고리즘을 Python 코드로 작성하면 다음과 같다."
   ]
  },
  {
   "cell_type": "code",
   "execution_count": 1,
   "metadata": {},
   "outputs": [
    {
     "name": "stdout",
     "output_type": "stream",
     "text": [
      "6\n"
     ]
    }
   ],
   "source": [
    "# 최대공약수 구하기\n",
    "def gcd(a, b):\n",
    "    # b가 0이면 a가 최대 공약수\n",
    "    if b == 0:\n",
    "        return a\n",
    "    else:\n",
    "        #  a를 b로 나눈 나머지를 구하여 재귀호출\n",
    "        return gcd(b, a % b)\n",
    "\n",
    "a, b = map(int, input().split())  # 두 수 입력, a > b\n",
    "result = gcd(a, b)\n",
    "\n",
    "print(result)"
   ]
  },
  {
   "attachments": {},
   "cell_type": "markdown",
   "metadata": {},
   "source": [
    "- math 모듈의 gcd 함수를 사용하면 최대공약수를 바로 구할 수도 있다."
   ]
  },
  {
   "cell_type": "code",
   "execution_count": 2,
   "metadata": {},
   "outputs": [
    {
     "name": "stdout",
     "output_type": "stream",
     "text": [
      "6\n"
     ]
    }
   ],
   "source": [
    "from math import gcd\n",
    "\n",
    "a, b = map(int, input().split())  # 두 수 입력, a > b\n",
    "result = gcd(a, b)\n",
    "\n",
    "print(result)"
   ]
  },
  {
   "attachments": {},
   "cell_type": "markdown",
   "metadata": {},
   "source": [
    "# 최소 공배수 구하기\n",
    "- 두 수의 최소 공배수가 **두 수의 곱을 두 수의 최대공약수로 나눈 값**임을 이용하면 유클리드 호제법을 이용하여 최소공배수를 구할 수도 있다."
   ]
  },
  {
   "cell_type": "code",
   "execution_count": 4,
   "metadata": {},
   "outputs": [
    {
     "name": "stdout",
     "output_type": "stream",
     "text": [
      "6\n"
     ]
    }
   ],
   "source": [
    "# 최대공약수 구하기\n",
    "def gcd(a, b):\n",
    "    # b가 0이면 a가 최대 공약수\n",
    "    if b == 0:\n",
    "        return a\n",
    "    else:\n",
    "        #  a를 b로 나눈 나머지를 구하여 재귀호출\n",
    "        return gcd(b, a % b)\n",
    "    \n",
    "a, b = map(int, input().split())  # 두 수 입력, a > b\n",
    "\n",
    "lcm = a * b // gcd(a, b)\n",
    "print(lcm)"
   ]
  },
  {
   "attachments": {},
   "cell_type": "markdown",
   "metadata": {},
   "source": [
    "- 최대 공약수와 마찬가지로 math 모듈의 gcd 함수를 사용할 수도 있다."
   ]
  },
  {
   "cell_type": "code",
   "execution_count": null,
   "metadata": {},
   "outputs": [],
   "source": [
    "from math import gcd\n",
    "\n",
    "a, b = map(int, input().split())  # 두 수 입력, a > b\n",
    "\n",
    "lcm = a * b // gcd(a, b)\n",
    "print(lcm)"
   ]
  },
  {
   "attachments": {},
   "cell_type": "markdown",
   "metadata": {},
   "source": [
    "- 파이썬 3.9버전에는 최소공배수를 바로 구할 수 있는 lcm 함수도 추가되었다."
   ]
  },
  {
   "cell_type": "code",
   "execution_count": 5,
   "metadata": {},
   "outputs": [
    {
     "name": "stdout",
     "output_type": "stream",
     "text": [
      "6\n"
     ]
    }
   ],
   "source": [
    "from math import lcm\n",
    "\n",
    "a, b = map(int, input().split())  # 두 수 입력\n",
    "result = lcm(a, b)\n",
    "\n",
    "print(result)"
   ]
  },
  {
   "attachments": {},
   "cell_type": "markdown",
   "metadata": {},
   "source": [
    "# 확장 유클리드 호제법 - 방정식의 해 구하기\n",
    "- 유클리드 호제법의 목적이 두 수의 최대공약수를 구하는 것이라면 확장 유클리드 호제법의 목적은 방정식의 해를 구하는 것\n",
    "## 알고리즘\n",
    "해를 구하고자 하는 방정식이 `ax + by = c`(a, b, c, x, y 는 정수) 와 같을 때 방정식의 해 x, y 를 구하는 알고리즘은 다음과 같다.\n",
    "\n",
    "1. 유클리드 호제법을 이용하여 나머지가 0이 될 때 까지의 몫, 나머지를 저장한다. \n",
    "2. 반복으로 구한 나머지와 몫을 이용하여 거꾸로 올라가며 `x = y'`, `y = x' - y' * q`를 역계산한다.\n",
    "  ➝ `x'`는 이전 `x`, `y'`는 이전 `y`를 의미하고 `q`는 현재 몫을 의미한다.\n",
    "  ➝ 처음 시작하는 `x`, `y`는 이전 값이 없으므로 `x'`, `y'`를 각각 1, 0으로 지정하여 역계산을 진행한다.\n",
    "3. 이렇게 재귀 방식으로 알아낸 최종 `x`, `y`는 `ax + by = gcd(a, b)`를 만족한다.\n",
    "4. `c / gcd(a, b) = K`를 가정하면 최초 방정식의 해는 `Kx`, `Ky`가 된다.\n",
    "## 예시를 통해 이해하기\n",
    "5x + 9y = 2 일 때 만족하는 정수 x, y를 구해보자.\n",
    "#### STEP 0\n",
    "- 조건을 정리하면 다음과 같다.\n",
    "![](https://velog.velcdn.com/images/mjieun/post/2158eb9c-db3c-4c88-a082-506e212dba34/image.png)\n",
    "\n",
    "#### STEP 1\n",
    "- 유클리드 호제법을 반복 실행하며 몫, 나머지를 저장한다.\n",
    "- 반복은 나머지가 0이 되면 중단한다.\n",
    "![](https://velog.velcdn.com/images/mjieun/post/4d304d73-2b4a-49dc-8991-6c7bfedee19c/image.png)\n",
    "\n",
    "#### STEP 2\n",
    "- 반복으로 구한 나머지와 몫을 이용하여 거꾸로 올라가며 `x = y'`, `y = x' - y' * q`를 역계산한다.\n",
    "  - `x'`는 이전 `x`, `y'`는 이전 `y`를 의미하고 `q`는 현재 몫을 의미한다.\n",
    "  - 처음 시작하는 `x`, `y`는 이전 값이 없으므로 `x'`, `y'`를 각각 1, 0으로 지정하여 역계산을 진행한다.\n",
    "  \n",
    "![](https://velog.velcdn.com/images/mjieun/post/ddca2493-ff9f-4695-9837-35ecb6742104/image.png)\n",
    "- 이렇게 알아낸 최종 x = 2, y = -1은 `ax + by = gcd(a, b)`를 만족한다.\n",
    "#### STEP 3\n",
    "- `c / gcd(a, b) = K` 를 가정하면 최초 방정식의 해를 구할 수 있다.\n",
    "  - 주어진 조건에서 `c = 2`, `gcd(a, b) = 1` 이므로 `K = 2` 이다.\n",
    "- 따라서 해 `Kx`, `Ky`는 각각 `2*2 = 4`, `2 * (-1) = -2` 가 된다.\n",
    "\n",
    "## 코드 작성하기\n",
    "- 위에서 설명한 알고리즘을 코드로 작성하면 다음과 같다."
   ]
  },
  {
   "cell_type": "code",
   "execution_count": 6,
   "metadata": {},
   "outputs": [
    {
     "name": "stdout",
     "output_type": "stream",
     "text": [
      "4 -2\n"
     ]
    }
   ],
   "source": [
    "a, b, c = map(int, input().split())  # ax + by = c 일 때 세 수 입력\n",
    "\n",
    "# 유클리드 호제법을 이용한 최대 공약수 구하기\n",
    "def gcd(a, b):\n",
    "    if b == 0:\n",
    "        return a\n",
    "    else:\n",
    "        return gcd(b, a % b)\n",
    "\n",
    "def solve(a, b):\n",
    "    result = [0] * 2  # x, y를 저장할 배열\n",
    "\n",
    "    # x', y' 초기 값 설정\n",
    "    if b == 0:\n",
    "        result[0] = 1\n",
    "        result[1] = 0\n",
    "        return result\n",
    "    \n",
    "    q = a // b  # q = a를 b로 나눈 몫\n",
    "    v = solve(b, a % b)  # 재귀 형태로 유클리드 호제법 수행\n",
    "\n",
    "    # 역순으로 올라오며 x, y 계산\n",
    "    result[0] = v[1]\n",
    "    result[1] = v[0] - v[1] * q\n",
    "    \n",
    "    return result\n",
    "\n",
    "# c가 최대공약수의 배수가 아니라면 방정식의 해를 구할 수 없음\n",
    "if c % gcd(a, b) != 0:\n",
    "    print(-1)\n",
    "else:\n",
    "    k = int(c / gcd(a, b))\n",
    "    ret = solve(a, b)\n",
    "    x = k * ret[0]\n",
    "    y = k * ret[1]\n",
    "    print(x, y)"
   ]
  }
 ],
 "metadata": {
  "kernelspec": {
   "display_name": "Python 3",
   "language": "python",
   "name": "python3"
  },
  "language_info": {
   "codemirror_mode": {
    "name": "ipython",
    "version": 3
   },
   "file_extension": ".py",
   "mimetype": "text/x-python",
   "name": "python",
   "nbconvert_exporter": "python",
   "pygments_lexer": "ipython3",
   "version": "3.9.13"
  },
  "orig_nbformat": 4
 },
 "nbformat": 4,
 "nbformat_minor": 2
}
