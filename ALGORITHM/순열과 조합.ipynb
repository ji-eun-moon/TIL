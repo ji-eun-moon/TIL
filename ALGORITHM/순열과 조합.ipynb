{
 "cells": [
  {
   "cell_type": "code",
   "execution_count": null,
   "metadata": {},
   "outputs": [],
   "source": [
    "# 중복 순열 \n",
    "# 중복 허용, 순서가 다르면 다른 경우의 수\n",
    "\n",
    "# 4장의 카드 중에서 3장 뽑기 \n",
    "card = ['A', 'B', 'C', 'D']\n",
    "path = [0]*3\n",
    "\n",
    "def dfs(level):\n",
    "    if level == 3:\n",
    "        print(*path)\n",
    "        return\n",
    "    for i in range(4):\n",
    "        path[level] = card[i]\n",
    "        dfs(level+1)\n",
    "        path[level] = 0\n",
    "\n",
    "dfs(0)"
   ]
  },
  {
   "cell_type": "code",
   "execution_count": null,
   "metadata": {},
   "outputs": [],
   "source": [
    "# 순열\n",
    "# 중복 허용 x, 순서가 다르면 다른 경우의 수\n",
    "\n",
    "# 4장의 카드 중에서 3장 뽑기 \n",
    "card = ['A', 'B', 'C', 'D']\n",
    "path = [0]*3\n",
    "used = [0]*4\n",
    "\n",
    "def dfs(level):\n",
    "    if level == 3:\n",
    "        print(*path)\n",
    "        return\n",
    "    for i in range(4):\n",
    "        if used[i] == 0:\n",
    "            used[i] = 1\n",
    "            path[level] = card[i]\n",
    "            dfs(level+1)\n",
    "            used[i] = 0\n",
    "            path[level] = 0\n",
    "\n",
    "dfs(0)"
   ]
  },
  {
   "cell_type": "code",
   "execution_count": null,
   "metadata": {},
   "outputs": [],
   "source": [
    "# 중복 조합\n",
    "# 중복 허용 O, 순서가 달라도 같은 경우의 수\n",
    "\n",
    "card = ['A', 'B', 'C', 'D']\n",
    "path = [0]*3\n",
    "\n",
    "def dfs(level, start):\n",
    "    if level == 3:\n",
    "        print(*path)\n",
    "        return \n",
    "    for i in range(start, 4):\n",
    "        path[level] = card[i]  \n",
    "        dfs(level+1, i)\n",
    "\n",
    "dfs(0, 0)\n",
    "    "
   ]
  },
  {
   "cell_type": "code",
   "execution_count": null,
   "metadata": {},
   "outputs": [],
   "source": [
    "# 조합\n",
    "# 중복 허용 X, 순서가 달라도 같은 경우의 수\n",
    "\n",
    "# 4장의 카드 중에서 3장 뽑기 \n",
    "card = ['A', 'B', 'C', 'D']\n",
    "path = [0]*3\n",
    "\n",
    "def dfs(level, start):\n",
    "    if level == 3:\n",
    "        print(*path)\n",
    "        return\n",
    "    for i in range(start, 4):\n",
    "        path[level] = card[i]\n",
    "        dfs(level+1, i+1)\n",
    "\n",
    "dfs(0, 0)"
   ]
  },
  {
   "cell_type": "code",
   "execution_count": 1,
   "metadata": {},
   "outputs": [
    {
     "name": "stdout",
     "output_type": "stream",
     "text": [
      "A   \n",
      "A B  \n",
      "A B C \n",
      "A B C D\n",
      "A B D \n",
      "A C  \n",
      "A C D \n",
      "A D  \n",
      "B   \n",
      "B C  \n",
      "B C D \n",
      "B D  \n",
      "C   \n",
      "C D  \n",
      "D   \n",
      "16\n"
     ]
    }
   ],
   "source": [
    "# 부분집합\n",
    "# A, B, C, D 가 영화관을 갈 때 갈 수 있는 경우의 수?\n",
    "\n",
    "name = ['A', 'B', 'C', 'D']\n",
    "path = ['']*4\n",
    "cnt = 0\n",
    "def abc(level, start):\n",
    "    global cnt\n",
    "    cnt += 1\n",
    "    if level == 4:\n",
    "        return\n",
    "    for i in range(start, 4):\n",
    "        path[level] = name[i]\n",
    "        print(*path)\n",
    "        abc(level+1, i+1)\n",
    "        path[level] = ''\n",
    "\n",
    "abc(0, 0)\n",
    "print(cnt)"
   ]
  }
 ],
 "metadata": {
  "kernelspec": {
   "display_name": "Python 3",
   "language": "python",
   "name": "python3"
  },
  "language_info": {
   "codemirror_mode": {
    "name": "ipython",
    "version": 3
   },
   "file_extension": ".py",
   "mimetype": "text/x-python",
   "name": "python",
   "nbconvert_exporter": "python",
   "pygments_lexer": "ipython3",
   "version": "3.9.13"
  },
  "orig_nbformat": 4,
  "vscode": {
   "interpreter": {
    "hash": "c4b9ebf4ca459396e2ad1150752490c26670c1a037c08cad955a4425787bec2e"
   }
  }
 },
 "nbformat": 4,
 "nbformat_minor": 2
}
