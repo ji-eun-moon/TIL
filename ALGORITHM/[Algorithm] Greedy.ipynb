{
 "cells": [
  {
   "attachments": {},
   "cell_type": "markdown",
   "metadata": {},
   "source": [
    "# 그리디 알고리즘\n",
    "- 현재 상황에서 당장 좋은 것만 고르는 방법\n",
    "- 기준에 따라 가장 좋은 것을 선택하는 알고리즘이므로 문제에서 '가장 큰 순서대로', '가장 작은 순서대로'와 같은 기준을 알게 모르게 제시해 줌"
   ]
  },
  {
   "attachments": {},
   "cell_type": "markdown",
   "metadata": {},
   "source": [
    "## 거스름돈 문제\n",
    "- 당신은 음식점의 계산을 도와주는 점원입니다. \n",
    "- 카운터에는 거스름돈으로 사용할 500원, 100원, 50원, 10원짜리 동전이 무한이 존재한다고 가정합니다. \n",
    "- 손님에게 거슬러 주어야 할 돈이 N원일 때 거슬러 주어야 할 동전의 최소 개수를 구하세요. \n",
    "- 단, 거슬러 줘야 할 돈 N은 항상 10의 배수입니다.\n",
    "### 문제 해결 방법\n",
    "- 가장 큰 화폐 단위부터 돈을 거슬러 주면 된다.\n",
    "- N원을 거슬러줘야 할 때, 가장 먼저 500원으로 거슬러 주고 그 다음 100원, 50원, 10원 짜리 동전을 차례대로 거슬러 주면 최소의 동전 개수로 모두 거슬러 줄 수 있다.\n",
    "- 화폐의 종류만큼 반복을 수행해야 하기 때문에 시간 복잡도는 O(K)\n",
    "  - 시간 복잡도는 동전의 종류에만 영향을 받고 거슬러줘야하는 금액의 크기와는 무관하다."
   ]
  },
  {
   "cell_type": "code",
   "execution_count": 1,
   "metadata": {},
   "outputs": [
    {
     "name": "stdout",
     "output_type": "stream",
     "text": [
      "6\n"
     ]
    }
   ],
   "source": [
    "changes = 1260\n",
    "count = 0\n",
    "\n",
    "# 큰 단위의 화폐부터 차례대로 하면\n",
    "coin_types = [500, 100, 50, 10]\n",
    "\n",
    "for coin in coin_types:\n",
    "    count += changes//coin  # 해당 화폐로 거슬러 줄 수 있는 동전의 개수\n",
    "    changes %= coin\n",
    "\n",
    "print(count)"
   ]
  },
  {
   "attachments": {},
   "cell_type": "markdown",
   "metadata": {},
   "source": [
    "## 큰 수의 법칙\n",
    "```\n",
    "동빈이의 큰수의 법칙은 다양한 수로 이루어진 배열이 있을 때 주어진 수들을 M번 더하여 가장 큰수를 만드는 방법이다. \n",
    "단, 배열의 특정한 인덱스에 해당하는 수가 연속해서 K번을 초과하여 더해질 수 없는 것이 이 법칙의 특징이다.\n",
    "\n",
    "예를 들어 순서대로 2, 4, 5, 4, 6으로 이루어진 배열이 있을 때, M이 8이고 K가 3이라고 가정하자.\n",
    "이 경우 특정한 인덱스의 수가 연속해서 세 번까지만 더해질 수 있으므로 큰 수의 법칙에 따른 결과는 6 + 6 + 6 + 5 + 6 + 6 + 6 + 5인 46이 된다. \n",
    "단, 서로 다른 인덱스에 해당하는 수가 같은 경우에도 서로 다른 것으로 간주한다.\n",
    "\n",
    "예를 들어 순서대로 3, 4, 3, 4, 3으로 이루어진 배열이 있을 때 M이 7이고 K가 2라고 가정하자. \n",
    "이 경우 두 번째 원소에 해당하는 4와 네 번째 원소에 해당하는 4를 번갈아 두 번씩 더하는 것이 가능하다.\n",
    "결과적으로 4 + 4 + 4 + 4 + 4 + 4 + 4 인 28이 도출된다.\n",
    "\n",
    "\n",
    "배열의 크기 N, 숫자가 더해지는 횟수 M, 그리고 K가 주어질 때 동빈이의 큰 수의 법칙에 따른 결과를 출력하시오.\n",
    "\n",
    "첫째 줄에 N(2 <= N <= 1000), M(1 <= M <= 10000), K(1 <= K <= 10000) 의 자연수가 주어지며 각자연수는 공백으로 구분한다.\n",
    "둘째 줄에 N개의 자연수가 주어진다. 각 자연수는 공백으로 구분한다.\n",
    "단, 각각의 자연수는 1 이상 10000 이하의 수로 주어진다.\n",
    "입력으로 주어지는 K는 항상 M보다 작거나 같다.\n",
    "\n",
    "첫째 줄에 동빈이의 큰수의 법칙에 따라 더해진 답을 출력한다.\n",
    "```\n",
    "\n",
    "[입력]\n",
    "\n",
    "5 8 3\n",
    "\n",
    "2 4 5 4 6\n",
    "\n",
    "[출력]\n",
    "\n",
    "46"
   ]
  },
  {
   "cell_type": "code",
   "execution_count": 5,
   "metadata": {},
   "outputs": [
    {
     "name": "stdout",
     "output_type": "stream",
     "text": [
      "46\n"
     ]
    }
   ],
   "source": [
    "N, M, K = map(int, input().split())\n",
    "lst = list(map(int, input().split()))\n",
    "lst = sorted(lst, reverse=True)\n",
    "first = lst[0]\n",
    "second = lst[1]\n",
    "\n",
    "# 가장 큰 수를 K번 더하고 두번째로 큰 수를 한번 더하기\n",
    "def solve(M, K):\n",
    "    result = 0\n",
    "    while True:\n",
    "        for _ in range(K):\n",
    "            if M == 0:\n",
    "                return result\n",
    "            result += first\n",
    "            M -= 1\n",
    "        result += second\n",
    "        M -= 1\n",
    "\n",
    "print(solve(M, K))\n"
   ]
  },
  {
   "cell_type": "code",
   "execution_count": null,
   "metadata": {},
   "outputs": [],
   "source": []
  }
 ],
 "metadata": {
  "kernelspec": {
   "display_name": "Python 3",
   "language": "python",
   "name": "python3"
  },
  "language_info": {
   "codemirror_mode": {
    "name": "ipython",
    "version": 3
   },
   "file_extension": ".py",
   "mimetype": "text/x-python",
   "name": "python",
   "nbconvert_exporter": "python",
   "pygments_lexer": "ipython3",
   "version": "3.9.13"
  },
  "orig_nbformat": 4
 },
 "nbformat": 4,
 "nbformat_minor": 2
}
