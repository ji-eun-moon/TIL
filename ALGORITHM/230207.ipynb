{
 "cells": [
  {
   "attachments": {},
   "cell_type": "markdown",
   "metadata": {},
   "source": [
    "### 이진 검색 (Binary Search)\n",
    "- 자료의 가운데에 있는 항목의 키 값과 비교하여 다음 검색의 위치를 결정하고 검색을 계속 진행하는 방법\n",
    "    - 목적 키를 찾을 때까지 이진 검색을 순환적으로 반복 수행함으로써 검색 범위를 반으로 줄여가면서 보다 빠르게 검색을 수행함\n",
    "- 이진 검색을 하기 위해서는 자료가 정렬된 상태여야 한다.\n",
    "- 검색 과정\n",
    "    - 자료의 중앙에 있는 원소를 고른다.\n",
    "    - 중앙 원소의 값과 찾고자 하는 목표 값을 비교한다.\n",
    "    - 목표 값이 중앙 원소의 값보다 작으면 자료의 왼쪽 반에 대해서 새로 검색을 수행하고, 크다면 자료의 오른쪽 반에 대해서 새로 검색을 수행한다.\n",
    "    - 찾고자 하는 값을 찾을 때까지 위 과정을 반복한다."
   ]
  },
  {
   "cell_type": "code",
   "execution_count": 1,
   "metadata": {},
   "outputs": [
    {
     "name": "stdout",
     "output_type": "stream",
     "text": [
      "없음\n"
     ]
    }
   ],
   "source": [
    "arr = [1, 3, 5, 6, 8, 11, 13, 15]\n",
    "target = int(input())\n",
    "\n",
    "def bs(st, ed, target):\n",
    "    while True:\n",
    "        mid = (st + ed) // 2\n",
    "        if arr[mid] == target:\n",
    "            return 1\n",
    "        elif target > arr[mid]:\n",
    "            st = mid + 1\n",
    "        elif target < arr[mid]:\n",
    "            ed = mid - 1\n",
    "        if ed < st:\n",
    "            return 0\n",
    "\n",
    "answer = bs(0, len(arr)-1, target)\n",
    "\n",
    "if answer == 1:\n",
    "    print('찾았음')\n",
    "else:\n",
    "    print('없음')"
   ]
  },
  {
   "cell_type": "code",
   "execution_count": 2,
   "metadata": {},
   "outputs": [
    {
     "name": "stdout",
     "output_type": "stream",
     "text": [
      "못찾았다.\n"
     ]
    }
   ],
   "source": [
    "# 리스트에 n개의 정수를 입력 받고 target이 리스트 안에 있는지 존재 여부 출력\n",
    "\n",
    "lst = list(map(int, input().split()))\n",
    "target = int(input())\n",
    "\n",
    "for i in range(len(lst)-1):\n",
    "    for j in range(i+1, len(lst)):\n",
    "        if lst[i] > lst[j]:\n",
    "            lst[i], lst[j] = lst[j], lst[i]\n",
    "\n",
    "def bs(st, ed, target):\n",
    "    while True:\n",
    "        mid = (st+ed)//2\n",
    "        if lst[mid] == target:\n",
    "            return 1\n",
    "        elif lst[mid] < target:\n",
    "            st = mid + 1\n",
    "        elif lst[mid] > target:\n",
    "            ed = mid - 1\n",
    "        if st > ed:\n",
    "            return 0\n",
    "\n",
    "ans = bs(0, len(lst)-1, target)\n",
    "\n",
    "if ans == 1:\n",
    "    print('찾았다.')\n",
    "else:\n",
    "    print('못찾았다.')"
   ]
  },
  {
   "attachments": {},
   "cell_type": "markdown",
   "metadata": {},
   "source": [
    "- Parametric Search\n",
    "    - 최적화 문제(문제의 상황을 만족하는 특정 변수의 최솟값, 최댓값을 구하는 문제)를 결정 문제(decision problem)로 바꾸어 푸는 것\n",
    "    - 예를 들어 범위 내에서 조건을 만족하는 가장 큰 값을 찾으라는 최적화 문제라면 이분 탐색으로 결정 문제를 해결하면서 범위를 좁혀갈 수 있음.\n"
   ]
  },
  {
   "cell_type": "code",
   "execution_count": 3,
   "metadata": {},
   "outputs": [
    {
     "name": "stdout",
     "output_type": "stream",
     "text": [
      "60%\n"
     ]
    }
   ],
   "source": [
    "# 배터리가 얼마나 충전되어 있는지 확인\n",
    "\n",
    "battery = '******____'\n",
    "\n",
    "def parametric_search(st, ed):\n",
    "    Max = 0\n",
    "    while True:\n",
    "        mid = (st+ed)//2\n",
    "        if battery[mid] == '*':\n",
    "            Max = mid\n",
    "            st = mid + 1\n",
    "        elif battery[mid] == '_':\n",
    "            ed = mid - 1\n",
    "        if st > ed:\n",
    "            break\n",
    "    return Max + 1\n",
    "\n",
    "ans = parametric_search(0, len(battery)-1)\n",
    "print(f'{ans*10}%')"
   ]
  },
  {
   "attachments": {},
   "cell_type": "markdown",
   "metadata": {},
   "source": [
    "##### 연습 문제\n",
    "\n",
    "- 워드 작업 중 정전으로 인하여 컴퓨터가 강제 종료 되었습니다.\n",
    "- 다시 전기가 들어와 컴퓨터를 켰더니 다행이도 자동복구가 실행 되었습니다.\n",
    "- 우리는 자동복구가 되었을떄 커서의 위치가 어디인지를 알려줘야 합니다.\n",
    "- 커서의 위치를 알려주는 프로그램을 완성해 주세요.\n",
    "- 시간복잡도 O(n^2) 보다 빨라야 합니다."
   ]
  },
  {
   "cell_type": "code",
   "execution_count": null,
   "metadata": {},
   "outputs": [],
   "source": [
    "curser=[\n",
    " '##########',\n",
    " '##########',\n",
    " '###_______',\n",
    " '__________',\n",
    " '__________',\n",
    " '__________',\n",
    "]\n",
    "\n",
    "def parametric_search(sty, edy, stx, edx):\n",
    "    dy = 0\n",
    "    dx = 0\n",
    "    while True:\n",
    "        midy = (sty + edy) // 2\n",
    "        if curser[midy][0] == '#':\n",
    "            dy = midy\n",
    "            sty = midy + 1\n",
    "        elif curser[midy][0] == '_':\n",
    "            edy = midy - 1\n",
    "        if sty > edy:\n",
    "            break\n",
    "    while True:\n",
    "        midx = (stx + edx) // 2\n",
    "        if curser[dy][midx] == '#':\n",
    "            dx = midx\n",
    "            stx = midx + 1\n",
    "        elif curser[dy][midx] == '_':\n",
    "            edx = midx - 1\n",
    "        if stx > edx:\n",
    "            break\n",
    "    return (dy, dx+1)\n",
    "\n",
    "ans = parametric_search(0, 5, 0, 9)\n",
    "\n",
    "print(ans)"
   ]
  },
  {
   "cell_type": "code",
   "execution_count": 4,
   "metadata": {},
   "outputs": [
    {
     "name": "stdout",
     "output_type": "stream",
     "text": [
      "2 3\n"
     ]
    }
   ],
   "source": [
    "# 교수님 풀이\n",
    "curser=[\n",
    " '##########',\n",
    " '##########',\n",
    " '###_______',\n",
    " '__________',\n",
    " '__________',\n",
    " '__________',\n",
    "]\n",
    "\n",
    "def bs1(st,ed):\n",
    " Max=-1\n",
    " while(1):\n",
    "  mid=(st+ed)//2\n",
    "  if curser[mid][0]=='_':\n",
    "   ed=mid-1\n",
    "  elif curser[mid][0]=='#':\n",
    "   Max=mid\n",
    "   st=mid+1\n",
    "  if st>ed:\n",
    "   break\n",
    "  return Max+1\n",
    "\n",
    "def bs2(st,ed,yy):\n",
    " Maxx = -1\n",
    " while (1):\n",
    "  mid = (st + ed) // 2\n",
    "  if curser[yy][mid] == '_':\n",
    "   ed = mid - 1\n",
    "  elif curser[yy][mid] == '#':\n",
    "   Maxx = mid\n",
    "   st = mid + 1\n",
    "  if st > ed:\n",
    "   break\n",
    " return Maxx + 1   \n",
    "\n",
    "yaxis=bs1(0,5)\n",
    "xaxis=bs2(0,9,yaxis-1)\n",
    "print(yaxis-1,xaxis)"
   ]
  }
 ],
 "metadata": {
  "kernelspec": {
   "display_name": "Python 3",
   "language": "python",
   "name": "python3"
  },
  "language_info": {
   "codemirror_mode": {
    "name": "ipython",
    "version": 3
   },
   "file_extension": ".py",
   "mimetype": "text/x-python",
   "name": "python",
   "nbconvert_exporter": "python",
   "pygments_lexer": "ipython3",
   "version": "3.9.13"
  },
  "orig_nbformat": 4,
  "vscode": {
   "interpreter": {
    "hash": "c4b9ebf4ca459396e2ad1150752490c26670c1a037c08cad955a4425787bec2e"
   }
  }
 },
 "nbformat": 4,
 "nbformat_minor": 2
}
