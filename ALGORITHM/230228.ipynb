{
 "cells": [
  {
   "cell_type": "code",
   "execution_count": null,
   "metadata": {},
   "outputs": [],
   "source": [
    "# a~g 가 서바이벌 게임을 하려고 합니다.\n",
    "# 두 팀으로 나누었을떄 전투력 차이가 최소로 하려고 할떄\n",
    "# 두 팀의 최소 전투력 차이는 몇일까요?\n",
    "\n",
    "score=[49,6,54,80,3,18,71]\n",
    "Min=int(21e8)\n",
    "check=[0]*7\n",
    "def dfs(start,level,sum):\n",
    "    global Min\n",
    "    against=0\n",
    "    for i in range(7):\n",
    "        if check[i]==0:\n",
    "            against+=score[i]\n",
    "\n",
    "    gap=abs(sum-against)\n",
    "    Min=min(Min,gap)\n",
    "\n",
    "    if level==6:\n",
    "        return\n",
    "\n",
    "    for i in range(start,7):\n",
    "        check[i]=1\n",
    "        dfs(i+1,level+1,sum+score[i])\n",
    "        check[i]=0\n",
    "dfs(0,0,0)  # start,level, sum\n",
    "print(Min)\n"
   ]
  },
  {
   "cell_type": "code",
   "execution_count": null,
   "metadata": {},
   "outputs": [],
   "source": [
    "# (0, 0) 에서 (3, 3)까지 이동 가능한지 출력\n",
    "\n",
    "arr = [[0, 0, 0, 0],\n",
    "       [1, 0, 1, 0],\n",
    "       [1, 0, 1, 0],\n",
    "       [0, 0, 0, 0]]\n",
    "\n",
    "used = [[0]*4 for _ in range(4)]\n",
    "\n",
    "direct_y = [0, 0, -1, 1]\n",
    "direct_x = [-1, 1, 0, 0]\n",
    "\n",
    "result = '불가능'\n",
    "\n",
    "def abc(y, x):\n",
    "    global result\n",
    "    if y == 3 and x == 3:\n",
    "        result = '가능'\n",
    "        return\n",
    "    for i in range(4):\n",
    "        dy = y + direct_y[i]\n",
    "        dx = x + direct_x[i]\n",
    "        if 0 <= dy < 4 and 0 <= dx < 4:\n",
    "            if arr[dy][dx] == 0 and used[dy][dx] == 0:\n",
    "                used[dy][dx] = 1\n",
    "                abc(dy, dx)\n",
    "                used[dy][dx] = 0\n",
    "\n",
    "used[0][0] = 1\n",
    "abc(0, 0)\n",
    "print(result)"
   ]
  },
  {
   "cell_type": "code",
   "execution_count": null,
   "metadata": {},
   "outputs": [],
   "source": [
    "arr=[[0,0,0,0],[1,0,1,0],[1,0,1,0],[0,0,0,0]]\n",
    "visit=[[0]*4 for _ in range(4)]\n",
    "flag=0\n",
    "\n",
    "def dfs(y,x):\n",
    "    global flag\n",
    "    if y==3 and x==3:\n",
    "        flag=1\n",
    "        return\n",
    "    directy=[-1,1,0,0]\n",
    "    directx=[0,0,-1,1]\n",
    "\n",
    "    for i in range(4):\n",
    "        dy=y+directy[i]\n",
    "        dx=x+directx[i]\n",
    "        if dy<0 or dx<0 or dy>3 or dx>3: continue\n",
    "        if visit[dy][dx]==1: continue\n",
    "        if arr[dy][dx]==1: continue\n",
    "        visit[dy][dx]=1\n",
    "        dfs(dy,dx)\n",
    "        if flag: return\n",
    "\n",
    "visit[0][0]=1\n",
    "dfs(0,0)\n",
    "if flag: print('도착가능')\n",
    "else: print('도착 불가능')"
   ]
  },
  {
   "cell_type": "code",
   "execution_count": 29,
   "metadata": {},
   "outputs": [
    {
     "name": "stdout",
     "output_type": "stream",
     "text": [
      "65\n"
     ]
    }
   ],
   "source": [
    "# 3*3 배열에 땅을 총 3번 팠을때\n",
    "# 모든 땅의 가치 합의 MAx 값 출력하기 (중복 땅파기 가능함)\n",
    "\n",
    "arr = [[3, 2, 7],\n",
    "       [4, 5, 1],\n",
    "       [7, 2, 8]]\n",
    "\n",
    "def getsum():  # 배열의 합 구하기 \n",
    "    Sum = 0\n",
    "    for i in range(3):\n",
    "        for j in range(3):\n",
    "            Sum += arr[i][j]\n",
    "    return Sum\n",
    "\n",
    "def digging(y, x):  # 땅을 파는 함수\n",
    "    direct_y = [0, 0, 0, -1, 1]\n",
    "    direct_x = [0, -1, 1, 0, 0]\n",
    "    for i in range(5):\n",
    "        dy = y + direct_y[i]\n",
    "        dx = x + direct_x[i]\n",
    "        if 0 <= dy < 3 and 0 <= dx < 3:\n",
    "            arr[dy][dx] = (arr[dy][dx]*7)%10\n",
    "    \n",
    "Max = 0\n",
    "def dfs(level):\n",
    "    global Max, arr\n",
    "    backup = [a[:] for a in arr]  # 원상 복귀 위해 배열 backup\n",
    "    if level == 3:  # 바닥에 왔을 때\n",
    "        Max = max(Max, getsum())  # 배열합 구하고 Max 갱신\n",
    "        return\n",
    "    for i in range(3):\n",
    "        for j in range(3):\n",
    "            digging(i, j)  # 땅파고\n",
    "            dfs(level+1)  # dfs 깊이로 들어가고\n",
    "            arr = [b[:] for b in backup]  # 원상 복구\n",
    "\n",
    "dfs(0)\n",
    "print(Max)"
   ]
  }
 ],
 "metadata": {
  "kernelspec": {
   "display_name": "Python 3",
   "language": "python",
   "name": "python3"
  },
  "language_info": {
   "codemirror_mode": {
    "name": "ipython",
    "version": 3
   },
   "file_extension": ".py",
   "mimetype": "text/x-python",
   "name": "python",
   "nbconvert_exporter": "python",
   "pygments_lexer": "ipython3",
   "version": "3.9.13"
  },
  "orig_nbformat": 4,
  "vscode": {
   "interpreter": {
    "hash": "c4b9ebf4ca459396e2ad1150752490c26670c1a037c08cad955a4425787bec2e"
   }
  }
 },
 "nbformat": 4,
 "nbformat_minor": 2
}
