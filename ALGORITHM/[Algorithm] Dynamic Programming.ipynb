{
 "cells": [
  {
   "attachments": {},
   "cell_type": "markdown",
   "metadata": {},
   "source": [
    "# Dynamic Programming"
   ]
  },
  {
   "attachments": {},
   "cell_type": "markdown",
   "metadata": {},
   "source": [
    "## 문제 1\n",
    "\n",
    "Ssafy 편의점에는 ATM이 1대밖에 없다. 지금 이 ATM앞에 N명의 사람들이 줄을 서있다. \n",
    "\n",
    "사람은 1번부터 N번까지 번호가 매겨져 있으며, i번 사람이 돈을 인출하는데 걸리는 시간은 Pi분이다.\n",
    "\n",
    "사람들이 줄을 서는 순서에 따라서, 돈을 인출하는데 필요한 시간의 합이 달라지게 된다. \n",
    "\n",
    "예를 들어, 총 5명이 있고, P1 = 3, P2 = 1, P3 = 4, P4 = 3, P5 = 2 인 경우를 생각해보자. \n",
    "\n",
    "[1, 2, 3, 4, 5] 순서로 줄을 선다면, 1번 사람은 3분만에 돈을 뽑을 수 있다. \n",
    "\n",
    "2번 사람은 1번 사람이 돈을 뽑을 때 까지 기다려야 하기 때문에, 3+1 = 4분이 걸리게 된다. \n",
    "\n",
    "3번 사람은 1번, 2번 사람이 돈을 뽑을 때까지 기다려야 하기 때문에, 총 3+1+4 = 8분이 필요하게 된다. \n",
    "\n",
    "4번 사람은 3+1+4+3 = 11분, 5번 사람은 3+1+4+3+2 = 13분이 걸리게 된다. \n",
    "\n",
    "이 경우에 각 사람이 돈을 인출하는데 필요한 시간의 합은 3+4+8+11+13 = 39분이 된다.\n",
    "\n",
    "줄을 [2, 5, 1, 4, 3] 순서로 줄을 서면, 2번 사람은 1분만에, 5번 사람은 1+2 = 3분, 1번 사람은 1+2+3 = 6분, 4번 사람은 1+2+3+3 = 9분, 3번 사람은 1+2+3+3+4 = 13분이 걸리게 된다. \n",
    "\n",
    "각 사람이 돈을 인출하는데 필요한 시간의 합은 1+3+6+9+13 = 32분이다. 이 방법보다 더 필요한 시간의 합을 최소로 만들 수는 없다.\n",
    "\n",
    "줄을 서 있는 사람의 수 N과 각 사람이 돈을 인출하는데 걸리는 시간 Pi가 주어졌을 때, 각 사람이 돈을 인출하는데 필요한 시간의 합의 최소값을 구하는 프로그램을 작성하시오.\n",
    "\n",
    "\n",
    "##### 입력\n",
    "첫째 줄에 사람의 수 N(1 ≤ N ≤ 1,000)이 주어진다. 둘째 줄에는 각 사람이 돈을 인출하는데 걸리는 시간 Pi가 주어진다.\n",
    "(1 ≤ Pi ≤ 1,000)\n",
    "\n",
    "##### 출력\n",
    "첫째 줄에 각 사람이 돈을 인출하는데 필요한 시간의 합의 최솟값을 출력한다.\n",
    "\n",
    "##### 입력 예\n",
    "5\n",
    "\n",
    "3 1 4 3 2\n",
    "\n",
    "##### 출력 예\n",
    "32\n"
   ]
  },
  {
   "cell_type": "code",
   "execution_count": null,
   "metadata": {},
   "outputs": [],
   "source": [
    "N = int(input())\n",
    "time = list(map(int, input().split()))\n",
    "\n",
    "answer = 0\n",
    "time.sort(reverse=True)\n",
    "\n",
    "for i in range(1, N+1):\n",
    "    answer += i * time[i-1]\n",
    "\n",
    "print(answer)      "
   ]
  },
  {
   "attachments": {},
   "cell_type": "markdown",
   "metadata": {},
   "source": [
    "## 문제 2\n",
    "\n",
    "예약 개수 입력 후\n",
    "\n",
    "예약시작시간 파티마치는시간 입력 받을 때,\n",
    "\n",
    "최대 몇개의  party 예약을 받을 수 있는지 출력\n",
    "\n",
    "##### 입력\n",
    "10\n",
    "\n",
    "18 21\n",
    "\n",
    "11 14\n",
    "\n",
    "15 17\n",
    "\n",
    "18 22\n",
    "\n",
    "13 16\n",
    "\n",
    "10 16\n",
    "\n",
    "12 23\n",
    "\n",
    "22 24\n",
    "\n",
    "16 20\n",
    "\n",
    "15 19\n"
   ]
  },
  {
   "cell_type": "code",
   "execution_count": null,
   "metadata": {},
   "outputs": [],
   "source": [
    "# 내 풀이\n",
    "\n",
    "N = int(input())\n",
    "lst = []\n",
    "for _ in range(N):\n",
    "    st, ed = map(int, input().split())\n",
    "    lst.append([st, ed])\n",
    "\n",
    "lst = sorted(lst, key=lambda x : x[1])\n",
    "\n",
    "result = [lst[0]]\n",
    "\n",
    "for i in range(1, N):\n",
    "    if lst[i][0] >= result[-1][1]:\n",
    "        result.append(lst[i])\n",
    "    else:\n",
    "        continue\n",
    "\n",
    "print(result)\n",
    "print(len(result))"
   ]
  },
  {
   "cell_type": "code",
   "execution_count": null,
   "metadata": {},
   "outputs": [],
   "source": [
    "# 교수님 풀이\n",
    "\n",
    "N = int(input())\n",
    "lst = []\n",
    "for _ in range(N):\n",
    "    st, ed = map(int, input().split())\n",
    "    lst.append([st, ed])\n",
    "\n",
    "lst = sorted(lst, key=lambda x : x[1])\n",
    "\n",
    "time = 0\n",
    "answer = 0\n",
    "for i in range(N):\n",
    "    if time <= lst[i][0]:\n",
    "        time = lst[i][1]\n",
    "        answer += 1\n",
    "print(answer)"
   ]
  },
  {
   "attachments": {},
   "cell_type": "markdown",
   "metadata": {},
   "source": [
    "## 문제 3\n"
   ]
  },
  {
   "cell_type": "code",
   "execution_count": 1,
   "metadata": {},
   "outputs": [
    {
     "name": "stdout",
     "output_type": "stream",
     "text": [
      "18\n"
     ]
    }
   ],
   "source": [
    "# 개구리가 점프할때 밟는 숫자의 최댓값 \n",
    "# 개구리는 밟는 인덱스의 +1, +2, *2 칸 갈 수 있음\n",
    "\n",
    "arr=[0,7,3,-5,-1,-9,-2,6,5,-4,0]\n",
    "n=len(arr)\n",
    "dp=[0]*n\n",
    "\n",
    "for i in range(1,len(arr)):\n",
    "    jp1=dp[i-1]\n",
    "    jp2=dp[i-2]\n",
    "    jp3=dp[i//2]\n",
    "    \n",
    "    dp[i]=jp1+arr[i]\n",
    "    if dp[i]<jp2+arr[i]:\n",
    "        dp[i]=jp2 + arr[i]\n",
    "    if i%2==0 and dp[i]<jp3+arr[i]:\n",
    "        dp[i] = jp3 + arr[i]\n",
    "        \n",
    "print(dp[n-1])"
   ]
  },
  {
   "attachments": {},
   "cell_type": "markdown",
   "metadata": {},
   "source": [
    "# 문제 4"
   ]
  },
  {
   "cell_type": "code",
   "execution_count": null,
   "metadata": {},
   "outputs": [],
   "source": [
    "# 지게차 이동 (시작->도착지 까지 최소비용)\n",
    "arr=[[0,7,1,4,3],\n",
    "    [1,9,6,1,5],\n",
    "    [3,2,5,4,7],\n",
    "    [1,6,5,9,8],\n",
    "    [7,4,3,5,0]]\n",
    "\n",
    "acc=[[0]*5 for _ in range(5)]\n",
    "\n",
    "# 가장 우측 그리고 최 하단값 셋팅하기\n",
    "def sett():\n",
    "    for i in range(3,-1,-1):\n",
    "        acc[i][4]=acc[i+1][4]+arr[i][4]\n",
    "        acc[4][i]=acc[4][i+1]+arr[4][i]\n",
    "\n",
    "sett()\n",
    "\n",
    "# 2중 for 돌면서 \n",
    "# (우측 그리고 아래 값 중 작은값) + 원본데이터값\n",
    "for i in range(3,-1,-1):\n",
    "    for j in range(3,-1,-1):\n",
    "        down=acc[i+1][j]\n",
    "        right=acc[i][j+1]\n",
    "        \n",
    "        if down>right:\n",
    "            value=right\n",
    "        else:\n",
    "            value=down\n",
    "            \n",
    "        acc[i][j]=value+arr[i][j]\n",
    "print(acc[0][0])\n"
   ]
  },
  {
   "attachments": {},
   "cell_type": "markdown",
   "metadata": {},
   "source": [
    "# 문제 5\n",
    "\n",
    "한 달 후면 국가의 부름을 받게 되는 최싸피는 여행을 가려고 한다. \n",
    "\n",
    "세상과의 단절을 슬퍼하며 최대한 즐기기 위한 여행이기 때문에, \n",
    "\n",
    "가지고 다닐 배낭 또한 최대한 가치 있게 싸려고 한다.\n",
    "\n",
    "최싸피가 여행에 필요하다고 생각하는 N개의 물건이 있다. \n",
    "\n",
    "각 물건은 무게 W와 가치 V를 가지는데, 해당 물건을 배낭에 넣어서 가면 최싸피가 V만큼 즐길 수 있다. \n",
    "\n",
    "아직 행군을 해본 적이 없는 최싸피는 최대 K만큼의 무게만을 넣을 수 있는 배낭만 들고 다닐 수 있다.\n",
    " \n",
    "최싸피가 최대한 즐거운 여행을 하기 위해 배낭에 넣을 수 있는 물건들의 가치의 최댓값을 알려주자.\n",
    "\n",
    "\n",
    "#### 입력\n",
    "첫 줄에 물품의 수 N(1 ≤ N ≤ 100)과 최싸피가 버틸 수 있는 무게 K(1 ≤ K ≤ 100,000)가 주어진다. \n",
    "두 번째 줄부터 N개의 줄에 거쳐 각 물건의 무게 W(1 ≤ W ≤ 100,000)와 \n",
    "해당 물건의 가치 V(0 ≤ V ≤ 1,000)가 주어진다.\n",
    "\n",
    "입력으로 주어지는 모든 수는 정수이며 제한시간은 2초 이다.\n",
    "\n",
    "#### 출력\n",
    "한 줄에 배낭에 넣을 수 있는 물건들의 가치합의 최댓값을 출력한다.\n",
    "\n",
    "##### 입력 예\n",
    "4 7\n",
    "\n",
    "6 13\n",
    "\n",
    "4 8\n",
    "\n",
    "3 6\n",
    "\n",
    "5 12\n",
    "\n",
    "##### 출력 예\n",
    "14"
   ]
  },
  {
   "cell_type": "code",
   "execution_count": 2,
   "metadata": {},
   "outputs": [
    {
     "name": "stdout",
     "output_type": "stream",
     "text": [
      "14\n"
     ]
    }
   ],
   "source": [
    "n, k = map(int, input().split())\n",
    "knapsack = [[0 for _ in range(k + 1)] for _ in range(n + 1)]  # 배열\n",
    "\n",
    "item = [[0, 0]]\n",
    "for i in range(1, n + 1):  # 아이템 입력\n",
    "    item.append(list(map(int, input().split())))\n",
    "\n",
    "Max = 0\n",
    "for i in range(1, n + 1):  # 아이템 개수만큼 반복\n",
    "    for j in range(1, k + 1):  # 최대무게까지 반복\n",
    "\n",
    "        weight = item[i][0]\n",
    "        value = item[i][1]\n",
    "\n",
    "        if j < weight:  # 가방에 넣을 수 없으면\n",
    "            knapsack[i][j] = knapsack[i - 1][j]  # 위에 값 그대로 가져오기\n",
    "        else: # 가방에 넣을 수 있으면\n",
    "            # 위에 값 vs (현재 아이템 가치 + 그전 단계에서 구한 남은무게의 가치)\n",
    "            knapsack[i][j] = max(knapsack[i - 1][j],value + knapsack[i - 1][j - weight])\n",
    "            Max = max(knapsack[i][j], Max)\n",
    "\n",
    "print(Max)"
   ]
  },
  {
   "attachments": {},
   "cell_type": "markdown",
   "metadata": {},
   "source": [
    "# 문제 6\n"
   ]
  },
  {
   "cell_type": "code",
   "execution_count": null,
   "metadata": {},
   "outputs": [],
   "source": [
    "# 동전 knapsack\n",
    "\n",
    "coin=[1,7,10]\n",
    "n=int(input())\n",
    "arr = [[0 for _ in range(n+1)] for _ in range(3)]  # 배열\n",
    "for i in range(3):\n",
    "    for j in range(n+1):\n",
    "        mok=j//coin[i]  # 몫 구하기\n",
    "        if j%coin[i]==0: arr[i][j]=mok  # 몫으로 나눌 수 있으면 몫 넣기\n",
    "        else: # 몫으로 나눌수 없다면...\n",
    "            if mok==0: arr[i][j]=arr[i-1][j] #동전단위가 너무 크다면 위에값\n",
    "            else:\n",
    "                arr[i][j]=min(arr[i-1][j],mok+arr[i][j%coin[i]])\n",
    "                # 윗값 vs 몫+최적화되어있는 그 줄에서의 나머지 값\n",
    "print(arr[2][n])\n"
   ]
  }
 ],
 "metadata": {
  "kernelspec": {
   "display_name": "Python 3",
   "language": "python",
   "name": "python3"
  },
  "language_info": {
   "codemirror_mode": {
    "name": "ipython",
    "version": 3
   },
   "file_extension": ".py",
   "mimetype": "text/x-python",
   "name": "python",
   "nbconvert_exporter": "python",
   "pygments_lexer": "ipython3",
   "version": "3.9.13"
  },
  "orig_nbformat": 4,
  "vscode": {
   "interpreter": {
    "hash": "42ee3307370d29dfcbc99a02a658e49d62c92a17d93da6b4c15a9fdb5fcd24e7"
   }
  }
 },
 "nbformat": 4,
 "nbformat_minor": 2
}
