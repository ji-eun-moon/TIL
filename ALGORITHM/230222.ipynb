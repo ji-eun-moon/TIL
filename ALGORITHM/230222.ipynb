{
 "cells": [
  {
   "attachments": {},
   "cell_type": "markdown",
   "metadata": {},
   "source": [
    "# Union Find\n",
    "- 노드를 합치고(union) 부모를 찾아(find) 서로소 집합(disjoint set)을 찾아내는 알고리즘\n",
    "- (A, B) 그룹화 시키는 과정 \n",
    "    - A, B 보스 찾고 두 보스가 같으면 이미 같은 그룹\n",
    "    - 다르면 B 보스에 A 보스 각인"
   ]
  },
  {
   "cell_type": "code",
   "execution_count": 3,
   "metadata": {},
   "outputs": [
    {
     "name": "stdout",
     "output_type": "stream",
     "text": [
      "같은 그룹\n"
     ]
    }
   ],
   "source": [
    "arr = [0]*200\n",
    "\n",
    "# 보스 찾기 \n",
    "def findboss(member):\n",
    "    if arr[ord(member)] == 0:  # 자기 자신이 boss 라면\n",
    "        return member\n",
    "    ret = findboss(arr[ord(member)])\n",
    "    return ret\n",
    "\n",
    "# 그룹화\n",
    "def setunion(a, b):\n",
    "    fa, fb = findboss(a), findboss(b)\n",
    "    if fa == fb:  # 각각의 보스가 같으면 이미 같은 그룹\n",
    "        return \n",
    "    arr[ord(fb)] = fa  # 다르면 b 보스에 a 보스 각인\n",
    "\n",
    "setunion('A', 'B')\n",
    "setunion('D', 'E')\n",
    "setunion('B', 'E')\n",
    "setunion('B', 'D')\n",
    "setunion('E', 'F')\n",
    "\n",
    "y, x = input().split()\n",
    "if findboss(y) == findboss(x):\n",
    "    print('같은 그룹')\n",
    "else:\n",
    "    print('다른 그룹')"
   ]
  },
  {
   "cell_type": "code",
   "execution_count": 5,
   "metadata": {},
   "outputs": [
    {
     "name": "stdout",
     "output_type": "stream",
     "text": [
      "발견\n"
     ]
    }
   ],
   "source": [
    "## 양방향 그래프에서 cycle 발생 여부 확인 \n",
    "arr = [0]*200\n",
    "\n",
    "def findboss(member):\n",
    "    if arr[ord(member)] == 0:\n",
    "        return member\n",
    "    ret = findboss(arr[ord(member)])\n",
    "    # 경로 단축\n",
    "    arr[ord(member)] = ret\n",
    "    return ret\n",
    "\n",
    "def setunion(a, b):\n",
    "    fa, fb = findboss(a), findboss(b)\n",
    "    if fa == fb:\n",
    "        return 1\n",
    "    arr[ord(fb)] = fa\n",
    "\n",
    "# N 개의 간선 정보 입력\n",
    "N = int(input())\n",
    "edge = []  # 간선 정보 저장할 리스트\n",
    "for _ in range(N):\n",
    "    edge.append(input().split())\n",
    "\n",
    "\n",
    "# cycle 발생 여부 출력\n",
    "answer = '미발견'\n",
    "for i in range(N):\n",
    "    a, b = edge[i]\n",
    "    if setunion(a, b):\n",
    "        answer = '발견'\n",
    "\n",
    "print(answer)\n",
    "# a b  # b c  # b e  # c e (cycle 발생)\n",
    "# a b  # b c  # b e  # c d (미발견)\n"
   ]
  }
 ],
 "metadata": {
  "kernelspec": {
   "display_name": "Python 3",
   "language": "python",
   "name": "python3"
  },
  "language_info": {
   "codemirror_mode": {
    "name": "ipython",
    "version": 3
   },
   "file_extension": ".py",
   "mimetype": "text/x-python",
   "name": "python",
   "nbconvert_exporter": "python",
   "pygments_lexer": "ipython3",
   "version": "3.9.13"
  },
  "orig_nbformat": 4,
  "vscode": {
   "interpreter": {
    "hash": "c4b9ebf4ca459396e2ad1150752490c26670c1a037c08cad955a4425787bec2e"
   }
  }
 },
 "nbformat": 4,
 "nbformat_minor": 2
}
