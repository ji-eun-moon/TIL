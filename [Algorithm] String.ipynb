{
 "cells": [
  {
   "attachments": {},
   "cell_type": "markdown",
   "metadata": {},
   "source": [
    "#### 문자열 뒤집기 "
   ]
  },
  {
   "cell_type": "code",
   "execution_count": 2,
   "metadata": {},
   "outputs": [
    {
     "name": "stdout",
     "output_type": "stream",
     "text": [
      "sgnirtS siht esreveR\n"
     ]
    }
   ],
   "source": [
    "s = 'Reverse this Strings'  # sgnirts siht esreverR\n",
    "s = s[::-1]\n",
    "print(s)"
   ]
  },
  {
   "cell_type": "code",
   "execution_count": 3,
   "metadata": {},
   "outputs": [
    {
     "name": "stdout",
     "output_type": "stream",
     "text": [
      "sgnirtS siht esreveR\n"
     ]
    }
   ],
   "source": [
    "s = 'Reverse this Strings'\n",
    "s = list(s)\n",
    "s.reverse()\n",
    "s = ''.join(s)\n",
    "print(s)"
   ]
  },
  {
   "cell_type": "code",
   "execution_count": 4,
   "metadata": {},
   "outputs": [
    {
     "name": "stdout",
     "output_type": "stream",
     "text": [
      "sgnirtS siht esreveR\n"
     ]
    }
   ],
   "source": [
    "s = 'Reverse this Strings'\n",
    "reverse_s = ''\n",
    "\n",
    "for c in s:\n",
    "    reverse_s = c + reverse_s\n",
    "\n",
    "print(reverse_s)"
   ]
  },
  {
   "attachments": {},
   "cell_type": "markdown",
   "metadata": {},
   "source": [
    "#### 문자열 비교하기"
   ]
  },
  {
   "attachments": {},
   "cell_type": "markdown",
   "metadata": {},
   "source": [
    "- 문자열 비교함수 만들기\n",
    "    - 문자열이 같으면 0\n",
    "    - str1이 str2보다 사전순서상 앞서면 음수 혹은 -1 리턴\n",
    "    - str1이 str2보다 사전순서상 나중이면 양수 혹은 1 리턴"
   ]
  },
  {
   "cell_type": "code",
   "execution_count": null,
   "metadata": {},
   "outputs": [],
   "source": []
  }
 ],
 "metadata": {
  "kernelspec": {
   "display_name": "Python 3",
   "language": "python",
   "name": "python3"
  },
  "language_info": {
   "codemirror_mode": {
    "name": "ipython",
    "version": 3
   },
   "file_extension": ".py",
   "mimetype": "text/x-python",
   "name": "python",
   "nbconvert_exporter": "python",
   "pygments_lexer": "ipython3",
   "version": "3.9.13"
  },
  "orig_nbformat": 4,
  "vscode": {
   "interpreter": {
    "hash": "c4b9ebf4ca459396e2ad1150752490c26670c1a037c08cad955a4425787bec2e"
   }
  }
 },
 "nbformat": 4,
 "nbformat_minor": 2
}
